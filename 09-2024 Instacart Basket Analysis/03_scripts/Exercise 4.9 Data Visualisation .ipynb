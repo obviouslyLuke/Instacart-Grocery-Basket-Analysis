{
 "cells": [
  {
   "cell_type": "markdown",
   "id": "18acfbed-bb4c-4775-9af1-d06a5e511bea",
   "metadata": {},
   "source": [
    "# Exercise 4.9 Data Visualisation\n",
    "## This notebook contains the following steps\n",
    "## 1. Import libraries\n",
    "## 2. Checking imported Dataframe\n",
    "## 3. Creating a histagram using matplotlib\n",
    "## 4. Creating a barchart using matplotlib\n",
    "## 5. Creating Sampling Data from the DF\n",
    "## 6. Creating a line chart using matplotlib from sampled data\n",
    "## 7. Create a scatterplot using seaborn\n",
    "## 8. Exporting visualisations as .pgn"
   ]
  },
  {
   "cell_type": "code",
   "execution_count": 1,
   "id": "12e1b460-8497-40c7-bb7f-866b53041002",
   "metadata": {},
   "outputs": [],
   "source": [
    "# Import libraries"
   ]
  },
  {
   "cell_type": "code",
   "execution_count": 2,
   "id": "17f27d4a-618b-4907-b634-fa04fcb08a5d",
   "metadata": {},
   "outputs": [],
   "source": [
    "import pandas as pd\n",
    "import numpy as np\n",
    "import os\n",
    "import matplotlib.pyplot as plt\n",
    "import seaborn as sns\n",
    "import scipy"
   ]
  },
  {
   "cell_type": "code",
   "execution_count": 3,
   "id": "8cad5630-9abd-4b65-b50d-7b6cc7d241e7",
   "metadata": {},
   "outputs": [],
   "source": [
    "# create directory path\n",
    "path = r'C:\\Users\\luke_\\Desktop\\CF Datacourse\\Python_exercise4\\09-2024 Instacart Basket Analysis\\02_data'"
   ]
  },
  {
   "cell_type": "code",
   "execution_count": 4,
   "id": "f1a4d570-2315-4901-9777-66741cc02513",
   "metadata": {},
   "outputs": [],
   "source": [
    "# Import project data\n",
    "instacart_data = pd.read_pickle(os.path.join(path, 'prepared_data', 'ords_prods_custos_merged.pkl'))"
   ]
  },
  {
   "cell_type": "code",
   "execution_count": 5,
   "id": "548cd216-9a33-45a6-b4d0-182268943fd3",
   "metadata": {},
   "outputs": [
    {
     "data": {
      "text/html": [
       "<div>\n",
       "<style scoped>\n",
       "    .dataframe tbody tr th:only-of-type {\n",
       "        vertical-align: middle;\n",
       "    }\n",
       "\n",
       "    .dataframe tbody tr th {\n",
       "        vertical-align: top;\n",
       "    }\n",
       "\n",
       "    .dataframe thead th {\n",
       "        text-align: right;\n",
       "    }\n",
       "</style>\n",
       "<table border=\"1\" class=\"dataframe\">\n",
       "  <thead>\n",
       "    <tr style=\"text-align: right;\">\n",
       "      <th></th>\n",
       "      <th>product_id</th>\n",
       "      <th>product_name</th>\n",
       "      <th>aisle_id</th>\n",
       "      <th>department_id</th>\n",
       "      <th>prices</th>\n",
       "      <th>order_id</th>\n",
       "      <th>user_id</th>\n",
       "      <th>order_number</th>\n",
       "      <th>order_day_of_week</th>\n",
       "      <th>time_of_order</th>\n",
       "      <th>...</th>\n",
       "      <th>first_name</th>\n",
       "      <th>last_name</th>\n",
       "      <th>gender</th>\n",
       "      <th>state</th>\n",
       "      <th>age</th>\n",
       "      <th>date_joined</th>\n",
       "      <th>n_dependants</th>\n",
       "      <th>fam_status</th>\n",
       "      <th>income</th>\n",
       "      <th>_merge</th>\n",
       "    </tr>\n",
       "  </thead>\n",
       "  <tbody>\n",
       "    <tr>\n",
       "      <th>0</th>\n",
       "      <td>1</td>\n",
       "      <td>Chocolate Sandwich Cookies</td>\n",
       "      <td>61</td>\n",
       "      <td>19</td>\n",
       "      <td>5.8</td>\n",
       "      <td>3139998</td>\n",
       "      <td>138</td>\n",
       "      <td>28</td>\n",
       "      <td>6</td>\n",
       "      <td>11</td>\n",
       "      <td>...</td>\n",
       "      <td>Charles</td>\n",
       "      <td>Cox</td>\n",
       "      <td>Male</td>\n",
       "      <td>Minnesota</td>\n",
       "      <td>81</td>\n",
       "      <td>8/1/2019</td>\n",
       "      <td>1</td>\n",
       "      <td>married</td>\n",
       "      <td>49620</td>\n",
       "      <td>both</td>\n",
       "    </tr>\n",
       "    <tr>\n",
       "      <th>1</th>\n",
       "      <td>1</td>\n",
       "      <td>Chocolate Sandwich Cookies</td>\n",
       "      <td>61</td>\n",
       "      <td>19</td>\n",
       "      <td>5.8</td>\n",
       "      <td>1977647</td>\n",
       "      <td>138</td>\n",
       "      <td>30</td>\n",
       "      <td>6</td>\n",
       "      <td>17</td>\n",
       "      <td>...</td>\n",
       "      <td>Charles</td>\n",
       "      <td>Cox</td>\n",
       "      <td>Male</td>\n",
       "      <td>Minnesota</td>\n",
       "      <td>81</td>\n",
       "      <td>8/1/2019</td>\n",
       "      <td>1</td>\n",
       "      <td>married</td>\n",
       "      <td>49620</td>\n",
       "      <td>both</td>\n",
       "    </tr>\n",
       "    <tr>\n",
       "      <th>2</th>\n",
       "      <td>1</td>\n",
       "      <td>Chocolate Sandwich Cookies</td>\n",
       "      <td>61</td>\n",
       "      <td>19</td>\n",
       "      <td>5.8</td>\n",
       "      <td>389851</td>\n",
       "      <td>709</td>\n",
       "      <td>2</td>\n",
       "      <td>0</td>\n",
       "      <td>21</td>\n",
       "      <td>...</td>\n",
       "      <td>Deborah</td>\n",
       "      <td>Glass</td>\n",
       "      <td>Female</td>\n",
       "      <td>Vermont</td>\n",
       "      <td>66</td>\n",
       "      <td>6/16/2018</td>\n",
       "      <td>2</td>\n",
       "      <td>married</td>\n",
       "      <td>158302</td>\n",
       "      <td>both</td>\n",
       "    </tr>\n",
       "    <tr>\n",
       "      <th>3</th>\n",
       "      <td>1</td>\n",
       "      <td>Chocolate Sandwich Cookies</td>\n",
       "      <td>61</td>\n",
       "      <td>19</td>\n",
       "      <td>5.8</td>\n",
       "      <td>652770</td>\n",
       "      <td>764</td>\n",
       "      <td>1</td>\n",
       "      <td>3</td>\n",
       "      <td>13</td>\n",
       "      <td>...</td>\n",
       "      <td>Heather</td>\n",
       "      <td>Myers</td>\n",
       "      <td>Female</td>\n",
       "      <td>Wisconsin</td>\n",
       "      <td>40</td>\n",
       "      <td>2/9/2020</td>\n",
       "      <td>3</td>\n",
       "      <td>married</td>\n",
       "      <td>31308</td>\n",
       "      <td>both</td>\n",
       "    </tr>\n",
       "    <tr>\n",
       "      <th>4</th>\n",
       "      <td>1</td>\n",
       "      <td>Chocolate Sandwich Cookies</td>\n",
       "      <td>61</td>\n",
       "      <td>19</td>\n",
       "      <td>5.8</td>\n",
       "      <td>1813452</td>\n",
       "      <td>764</td>\n",
       "      <td>3</td>\n",
       "      <td>4</td>\n",
       "      <td>17</td>\n",
       "      <td>...</td>\n",
       "      <td>Heather</td>\n",
       "      <td>Myers</td>\n",
       "      <td>Female</td>\n",
       "      <td>Wisconsin</td>\n",
       "      <td>40</td>\n",
       "      <td>2/9/2020</td>\n",
       "      <td>3</td>\n",
       "      <td>married</td>\n",
       "      <td>31308</td>\n",
       "      <td>both</td>\n",
       "    </tr>\n",
       "  </tbody>\n",
       "</table>\n",
       "<p>5 rows × 33 columns</p>\n",
       "</div>"
      ],
      "text/plain": [
       "   product_id                product_name  aisle_id  department_id  prices  \\\n",
       "0           1  Chocolate Sandwich Cookies        61             19     5.8   \n",
       "1           1  Chocolate Sandwich Cookies        61             19     5.8   \n",
       "2           1  Chocolate Sandwich Cookies        61             19     5.8   \n",
       "3           1  Chocolate Sandwich Cookies        61             19     5.8   \n",
       "4           1  Chocolate Sandwich Cookies        61             19     5.8   \n",
       "\n",
       "   order_id user_id  order_number  order_day_of_week  time_of_order  ...  \\\n",
       "0   3139998     138            28                  6             11  ...   \n",
       "1   1977647     138            30                  6             17  ...   \n",
       "2    389851     709             2                  0             21  ...   \n",
       "3    652770     764             1                  3             13  ...   \n",
       "4   1813452     764             3                  4             17  ...   \n",
       "\n",
       "   first_name  last_name  gender      state age date_joined n_dependants  \\\n",
       "0     Charles        Cox    Male  Minnesota  81    8/1/2019            1   \n",
       "1     Charles        Cox    Male  Minnesota  81    8/1/2019            1   \n",
       "2     Deborah      Glass  Female    Vermont  66   6/16/2018            2   \n",
       "3     Heather      Myers  Female  Wisconsin  40    2/9/2020            3   \n",
       "4     Heather      Myers  Female  Wisconsin  40    2/9/2020            3   \n",
       "\n",
       "   fam_status  income  _merge  \n",
       "0     married   49620    both  \n",
       "1     married   49620    both  \n",
       "2     married  158302    both  \n",
       "3     married   31308    both  \n",
       "4     married   31308    both  \n",
       "\n",
       "[5 rows x 33 columns]"
      ]
     },
     "execution_count": 5,
     "metadata": {},
     "output_type": "execute_result"
    }
   ],
   "source": [
    "#checking imported dataframe\n",
    "instacart_data.head()"
   ]
  },
  {
   "cell_type": "markdown",
   "id": "6ccf92dd-a283-4900-8083-1c3c97e43520",
   "metadata": {},
   "source": [
    "# 3. You need to provide the Instacart senior stakeholders with descriptive findings about sales. Create a histogram of the “time_of_order” column. "
   ]
  },
  {
   "cell_type": "code",
   "execution_count": 6,
   "id": "2f2a7eae-aeb7-458e-8369-0dbaa3c1f024",
   "metadata": {
    "scrolled": true
   },
   "outputs": [
    {
     "data": {
      "image/png": "[encoded data removed]",
      "text/plain": [
       "<Figure size 640x480 with 1 Axes>"
      ]
     },
     "metadata": {},
     "output_type": "display_data"
    }
   ],
   "source": [
    "hist = instacart_data['time_of_order'].plot.hist(bins = 24)"
   ]
  },
  {
   "cell_type": "markdown",
   "id": "65fe69e1-143c-48fb-8387-a80650b2cb83",
   "metadata": {},
   "source": [
    "## The histogram shows peaks which indicate the times of day when the most orders are placed (Between 10h00 and 15h00). This suggests that customers do their shopping during lunch hours or perhaps when children are at school or kindergarten. There is a steeper ramp up of orders in the morning () from 7h00 to 10h00) and a slower trickel in the evening (From 16h00 to 22h00)."
   ]
  },
  {
   "cell_type": "markdown",
   "id": "34ed2af0-38fb-429e-b560-d5016bcd818e",
   "metadata": {},
   "source": [
    "# 4. The marketing team is curious about the distribution of orders among customers in terms of loyalty. Create a bar chart from the “loyalty_flag” column."
   ]
  },
  {
   "cell_type": "code",
   "execution_count": 7,
   "id": "7d5739a5-bb1a-4e96-99a1-4939fa371a8b",
   "metadata": {},
   "outputs": [
    {
     "data": {
      "image/png": "[encoded data removed]",
      "text/plain": [
       "<Figure size 640x480 with 1 Axes>"
      ]
     },
     "metadata": {},
     "output_type": "display_data"
    }
   ],
   "source": [
    "bar = instacart_data['loyalty_flag'].value_counts().plot.bar()\n",
    "plt.tight_layout()"
   ]
  },
  {
   "cell_type": "markdown",
   "id": "19e442df-d166-4630-bf33-1c16582993af",
   "metadata": {},
   "source": [
    "# Check whether there’s a difference in expenditure (the “prices” column) depending on the hour of the day.\n",
    "## To do this we will create samples of the whole data, which we will split into two groups. one with 30% of the whole, and another with 70%."
   ]
  },
  {
   "cell_type": "code",
   "execution_count": 8,
   "id": "0d775660-6810-4040-993a-25becdfea2cc",
   "metadata": {},
   "outputs": [],
   "source": [
    "# Create random sample by generating a seed\n",
    "np.random.seed(4)"
   ]
  },
  {
   "cell_type": "code",
   "execution_count": 9,
   "id": "8153280e-4da0-42fb-a2a4-fe45f7040b7d",
   "metadata": {},
   "outputs": [],
   "source": [
    "# Create dev list based on the data split\n",
    "dev = np.random.rand(len(instacart_data)) <= 0.7"
   ]
  },
  {
   "cell_type": "code",
   "execution_count": 10,
   "id": "ecd68b25-bce1-4b04-9043-383d51f504dd",
   "metadata": {},
   "outputs": [],
   "source": [
    "# Split the dataframe into two samples\n",
    "big = instacart_data[dev]\n",
    "small = instacart_data[~dev]"
   ]
  },
  {
   "cell_type": "code",
   "execution_count": 11,
   "id": "8e1485a5-5e75-4fd8-ae4b-17976ef02ba6",
   "metadata": {},
   "outputs": [
    {
     "data": {
      "text/plain": [
       "32404859"
      ]
     },
     "execution_count": 11,
     "metadata": {},
     "output_type": "execute_result"
    }
   ],
   "source": [
    "# Compare the original df length to the sum of the big and small samples\n",
    "len(instacart_data)"
   ]
  },
  {
   "cell_type": "code",
   "execution_count": 12,
   "id": "50a436ab-bbab-4f44-9c46-042741abe43b",
   "metadata": {},
   "outputs": [
    {
     "data": {
      "text/plain": [
       "32404859"
      ]
     },
     "execution_count": 12,
     "metadata": {},
     "output_type": "execute_result"
    }
   ],
   "source": [
    "len(big) + len(small)"
   ]
  },
  {
   "cell_type": "code",
   "execution_count": 13,
   "id": "54fbc5e2-5b15-4090-aea6-e252438cdda4",
   "metadata": {},
   "outputs": [],
   "source": [
    "# Select only the columns needed for the analysis\n",
    "instacart_small = small [['time_of_order','prices']]"
   ]
  },
  {
   "cell_type": "code",
   "execution_count": 14,
   "id": "ab156a15-7648-482a-ab6a-cc8cd7691bc2",
   "metadata": {},
   "outputs": [
    {
     "data": {
      "text/html": [
       "<div>\n",
       "<style scoped>\n",
       "    .dataframe tbody tr th:only-of-type {\n",
       "        vertical-align: middle;\n",
       "    }\n",
       "\n",
       "    .dataframe tbody tr th {\n",
       "        vertical-align: top;\n",
       "    }\n",
       "\n",
       "    .dataframe thead th {\n",
       "        text-align: right;\n",
       "    }\n",
       "</style>\n",
       "<table border=\"1\" class=\"dataframe\">\n",
       "  <thead>\n",
       "    <tr style=\"text-align: right;\">\n",
       "      <th></th>\n",
       "      <th>time_of_order</th>\n",
       "      <th>prices</th>\n",
       "    </tr>\n",
       "  </thead>\n",
       "  <tbody>\n",
       "    <tr>\n",
       "      <th>0</th>\n",
       "      <td>11</td>\n",
       "      <td>5.8</td>\n",
       "    </tr>\n",
       "    <tr>\n",
       "      <th>2</th>\n",
       "      <td>21</td>\n",
       "      <td>5.8</td>\n",
       "    </tr>\n",
       "    <tr>\n",
       "      <th>3</th>\n",
       "      <td>13</td>\n",
       "      <td>5.8</td>\n",
       "    </tr>\n",
       "    <tr>\n",
       "      <th>6</th>\n",
       "      <td>14</td>\n",
       "      <td>5.8</td>\n",
       "    </tr>\n",
       "    <tr>\n",
       "      <th>10</th>\n",
       "      <td>11</td>\n",
       "      <td>5.8</td>\n",
       "    </tr>\n",
       "  </tbody>\n",
       "</table>\n",
       "</div>"
      ],
      "text/plain": [
       "    time_of_order  prices\n",
       "0              11     5.8\n",
       "2              21     5.8\n",
       "3              13     5.8\n",
       "6              14     5.8\n",
       "10             11     5.8"
      ]
     },
     "execution_count": 14,
     "metadata": {},
     "output_type": "execute_result"
    }
   ],
   "source": [
    "# Check the subset\n",
    "instacart_small.head()"
   ]
  },
  {
   "cell_type": "code",
   "execution_count": 15,
   "id": "3ef5ac9c-18d5-4942-a5f3-d8fdc3fd2b89",
   "metadata": {},
   "outputs": [
    {
     "data": {
      "image/png": "[encoded data removed]",
      "text/plain": [
       "<Figure size 640x480 with 1 Axes>"
      ]
     },
     "metadata": {},
     "output_type": "display_data"
    }
   ],
   "source": [
    "# Create line chart\n",
    "line = sns.lineplot(data = instacart_small, x = 'time_of_order',y = 'prices')"
   ]
  },
  {
   "cell_type": "markdown",
   "id": "af117935-7426-41bc-8c3c-6b9ae626a9e9",
   "metadata": {},
   "source": [
    "## The most expensive products are bought between midnight and 5h00, in the morning. The lest expensive products are bought around 22h00."
   ]
  },
  {
   "cell_type": "markdown",
   "id": "06dc3b03-70bc-49b9-bced-ef609263f6ff",
   "metadata": {},
   "source": [
    "# 6. Determine whether there’s a connection between age and family situation by creating a line chart exploring the connections between age and number of dependents"
   ]
  },
  {
   "cell_type": "code",
   "execution_count": 16,
   "id": "b4beacb0-a2ee-40ce-8dcd-abb8534d695d",
   "metadata": {},
   "outputs": [],
   "source": [
    "# Select only the columns needed for the analysis\n",
    "instacart_small_2 = small [['age','n_dependants']]"
   ]
  },
  {
   "cell_type": "code",
   "execution_count": 17,
   "id": "795e5fc6-9ce9-4943-aafb-046b0e8ecd4c",
   "metadata": {},
   "outputs": [
    {
     "data": {
      "text/html": [
       "<div>\n",
       "<style scoped>\n",
       "    .dataframe tbody tr th:only-of-type {\n",
       "        vertical-align: middle;\n",
       "    }\n",
       "\n",
       "    .dataframe tbody tr th {\n",
       "        vertical-align: top;\n",
       "    }\n",
       "\n",
       "    .dataframe thead th {\n",
       "        text-align: right;\n",
       "    }\n",
       "</style>\n",
       "<table border=\"1\" class=\"dataframe\">\n",
       "  <thead>\n",
       "    <tr style=\"text-align: right;\">\n",
       "      <th></th>\n",
       "      <th>age</th>\n",
       "      <th>n_dependants</th>\n",
       "    </tr>\n",
       "  </thead>\n",
       "  <tbody>\n",
       "    <tr>\n",
       "      <th>0</th>\n",
       "      <td>81</td>\n",
       "      <td>1</td>\n",
       "    </tr>\n",
       "    <tr>\n",
       "      <th>2</th>\n",
       "      <td>66</td>\n",
       "      <td>2</td>\n",
       "    </tr>\n",
       "    <tr>\n",
       "      <th>3</th>\n",
       "      <td>40</td>\n",
       "      <td>3</td>\n",
       "    </tr>\n",
       "    <tr>\n",
       "      <th>6</th>\n",
       "      <td>20</td>\n",
       "      <td>3</td>\n",
       "    </tr>\n",
       "    <tr>\n",
       "      <th>10</th>\n",
       "      <td>61</td>\n",
       "      <td>1</td>\n",
       "    </tr>\n",
       "  </tbody>\n",
       "</table>\n",
       "</div>"
      ],
      "text/plain": [
       "    age  n_dependants\n",
       "0    81             1\n",
       "2    66             2\n",
       "3    40             3\n",
       "6    20             3\n",
       "10   61             1"
      ]
     },
     "execution_count": 17,
     "metadata": {},
     "output_type": "execute_result"
    }
   ],
   "source": [
    "# Check the subset\n",
    "instacart_small_2.head()"
   ]
  },
  {
   "cell_type": "code",
   "execution_count": 18,
   "id": "da7d02d7-c5b7-454c-879e-b5baa97e331a",
   "metadata": {
    "scrolled": true
   },
   "outputs": [
    {
     "ename": "KeyboardInterrupt",
     "evalue": "",
     "output_type": "error",
     "traceback": [
      "\u001b[1;31m---------------------------------------------------------------------------\u001b[0m",
      "\u001b[1;31mKeyboardInterrupt\u001b[0m                         Traceback (most recent call last)",
      "Cell \u001b[1;32mIn[18], line 2\u001b[0m\n\u001b[0;32m      1\u001b[0m \u001b[38;5;66;03m# Create a line chart\u001b[39;00m\n\u001b[1;32m----> 2\u001b[0m line_2 \u001b[38;5;241m=\u001b[39m sns\u001b[38;5;241m.\u001b[39mlineplot(data \u001b[38;5;241m=\u001b[39m instacart_small_2, x \u001b[38;5;241m=\u001b[39m \u001b[38;5;124m'\u001b[39m\u001b[38;5;124mage\u001b[39m\u001b[38;5;124m'\u001b[39m,y \u001b[38;5;241m=\u001b[39m \u001b[38;5;124m'\u001b[39m\u001b[38;5;124mn_dependants\u001b[39m\u001b[38;5;124m'\u001b[39m)\n",
      "File \u001b[1;32m~\\anaconda3\\Lib\\site-packages\\seaborn\\relational.py:515\u001b[0m, in \u001b[0;36mlineplot\u001b[1;34m(data, x, y, hue, size, style, units, weights, palette, hue_order, hue_norm, sizes, size_order, size_norm, dashes, markers, style_order, estimator, errorbar, n_boot, seed, orient, sort, err_style, err_kws, legend, ci, ax, **kwargs)\u001b[0m\n\u001b[0;32m    512\u001b[0m color \u001b[38;5;241m=\u001b[39m kwargs\u001b[38;5;241m.\u001b[39mpop(\u001b[38;5;124m\"\u001b[39m\u001b[38;5;124mcolor\u001b[39m\u001b[38;5;124m\"\u001b[39m, kwargs\u001b[38;5;241m.\u001b[39mpop(\u001b[38;5;124m\"\u001b[39m\u001b[38;5;124mc\u001b[39m\u001b[38;5;124m\"\u001b[39m, \u001b[38;5;28;01mNone\u001b[39;00m))\n\u001b[0;32m    513\u001b[0m kwargs[\u001b[38;5;124m\"\u001b[39m\u001b[38;5;124mcolor\u001b[39m\u001b[38;5;124m\"\u001b[39m] \u001b[38;5;241m=\u001b[39m _default_color(ax\u001b[38;5;241m.\u001b[39mplot, hue, color, kwargs)\n\u001b[1;32m--> 515\u001b[0m p\u001b[38;5;241m.\u001b[39mplot(ax, kwargs)\n\u001b[0;32m    516\u001b[0m \u001b[38;5;28;01mreturn\u001b[39;00m ax\n",
      "File \u001b[1;32m~\\anaconda3\\Lib\\site-packages\\seaborn\\relational.py:295\u001b[0m, in \u001b[0;36m_LinePlotter.plot\u001b[1;34m(self, ax, kws)\u001b[0m\n\u001b[0;32m    291\u001b[0m     grouped \u001b[38;5;241m=\u001b[39m sub_data\u001b[38;5;241m.\u001b[39mgroupby(orient, sort\u001b[38;5;241m=\u001b[39m\u001b[38;5;28mself\u001b[39m\u001b[38;5;241m.\u001b[39msort)\n\u001b[0;32m    292\u001b[0m     \u001b[38;5;66;03m# Could pass as_index=False instead of reset_index,\u001b[39;00m\n\u001b[0;32m    293\u001b[0m     \u001b[38;5;66;03m# but that fails on a corner case with older pandas.\u001b[39;00m\n\u001b[0;32m    294\u001b[0m     sub_data \u001b[38;5;241m=\u001b[39m (\n\u001b[1;32m--> 295\u001b[0m         grouped\n\u001b[0;32m    296\u001b[0m         \u001b[38;5;241m.\u001b[39mapply(agg, other, \u001b[38;5;241m*\u001b[39m\u001b[38;5;241m*\u001b[39mgroupby_apply_include_groups(\u001b[38;5;28;01mFalse\u001b[39;00m))\n\u001b[0;32m    297\u001b[0m         \u001b[38;5;241m.\u001b[39mreset_index()\n\u001b[0;32m    298\u001b[0m     )\n\u001b[0;32m    299\u001b[0m \u001b[38;5;28;01melse\u001b[39;00m:\n\u001b[0;32m    300\u001b[0m     sub_data[\u001b[38;5;124mf\u001b[39m\u001b[38;5;124m\"\u001b[39m\u001b[38;5;132;01m{\u001b[39;00mother\u001b[38;5;132;01m}\u001b[39;00m\u001b[38;5;124mmin\u001b[39m\u001b[38;5;124m\"\u001b[39m] \u001b[38;5;241m=\u001b[39m np\u001b[38;5;241m.\u001b[39mnan\n",
      "File \u001b[1;32m~\\anaconda3\\Lib\\site-packages\\pandas\\core\\groupby\\groupby.py:1819\u001b[0m, in \u001b[0;36mGroupBy.apply\u001b[1;34m(self, func, include_groups, *args, **kwargs)\u001b[0m\n\u001b[0;32m   1816\u001b[0m     f \u001b[38;5;241m=\u001b[39m func\n\u001b[0;32m   1818\u001b[0m \u001b[38;5;28;01mif\u001b[39;00m \u001b[38;5;129;01mnot\u001b[39;00m include_groups:\n\u001b[1;32m-> 1819\u001b[0m     \u001b[38;5;28;01mreturn\u001b[39;00m \u001b[38;5;28mself\u001b[39m\u001b[38;5;241m.\u001b[39m_python_apply_general(f, \u001b[38;5;28mself\u001b[39m\u001b[38;5;241m.\u001b[39m_obj_with_exclusions)\n\u001b[0;32m   1821\u001b[0m \u001b[38;5;66;03m# ignore SettingWithCopy here in case the user mutates\u001b[39;00m\n\u001b[0;32m   1822\u001b[0m \u001b[38;5;28;01mwith\u001b[39;00m option_context(\u001b[38;5;124m\"\u001b[39m\u001b[38;5;124mmode.chained_assignment\u001b[39m\u001b[38;5;124m\"\u001b[39m, \u001b[38;5;28;01mNone\u001b[39;00m):\n",
      "File \u001b[1;32m~\\anaconda3\\Lib\\site-packages\\pandas\\core\\groupby\\groupby.py:1885\u001b[0m, in \u001b[0;36mGroupBy._python_apply_general\u001b[1;34m(self, f, data, not_indexed_same, is_transform, is_agg)\u001b[0m\n\u001b[0;32m   1850\u001b[0m \u001b[38;5;129m@final\u001b[39m\n\u001b[0;32m   1851\u001b[0m \u001b[38;5;28;01mdef\u001b[39;00m \u001b[38;5;21m_python_apply_general\u001b[39m(\n\u001b[0;32m   1852\u001b[0m     \u001b[38;5;28mself\u001b[39m,\n\u001b[1;32m   (...)\u001b[0m\n\u001b[0;32m   1857\u001b[0m     is_agg: \u001b[38;5;28mbool\u001b[39m \u001b[38;5;241m=\u001b[39m \u001b[38;5;28;01mFalse\u001b[39;00m,\n\u001b[0;32m   1858\u001b[0m ) \u001b[38;5;241m-\u001b[39m\u001b[38;5;241m>\u001b[39m NDFrameT:\n\u001b[0;32m   1859\u001b[0m \u001b[38;5;250m    \u001b[39m\u001b[38;5;124;03m\"\"\"\u001b[39;00m\n\u001b[0;32m   1860\u001b[0m \u001b[38;5;124;03m    Apply function f in python space\u001b[39;00m\n\u001b[0;32m   1861\u001b[0m \n\u001b[1;32m   (...)\u001b[0m\n\u001b[0;32m   1883\u001b[0m \u001b[38;5;124;03m        data after applying f\u001b[39;00m\n\u001b[0;32m   1884\u001b[0m \u001b[38;5;124;03m    \"\"\"\u001b[39;00m\n\u001b[1;32m-> 1885\u001b[0m     values, mutated \u001b[38;5;241m=\u001b[39m \u001b[38;5;28mself\u001b[39m\u001b[38;5;241m.\u001b[39m_grouper\u001b[38;5;241m.\u001b[39mapply_groupwise(f, data, \u001b[38;5;28mself\u001b[39m\u001b[38;5;241m.\u001b[39maxis)\n\u001b[0;32m   1886\u001b[0m     \u001b[38;5;28;01mif\u001b[39;00m not_indexed_same \u001b[38;5;129;01mis\u001b[39;00m \u001b[38;5;28;01mNone\u001b[39;00m:\n\u001b[0;32m   1887\u001b[0m         not_indexed_same \u001b[38;5;241m=\u001b[39m mutated\n",
      "File \u001b[1;32m~\\anaconda3\\Lib\\site-packages\\pandas\\core\\groupby\\ops.py:919\u001b[0m, in \u001b[0;36mBaseGrouper.apply_groupwise\u001b[1;34m(self, f, data, axis)\u001b[0m\n\u001b[0;32m    917\u001b[0m \u001b[38;5;66;03m# group might be modified\u001b[39;00m\n\u001b[0;32m    918\u001b[0m group_axes \u001b[38;5;241m=\u001b[39m group\u001b[38;5;241m.\u001b[39maxes\n\u001b[1;32m--> 919\u001b[0m res \u001b[38;5;241m=\u001b[39m f(group)\n\u001b[0;32m    920\u001b[0m \u001b[38;5;28;01mif\u001b[39;00m \u001b[38;5;129;01mnot\u001b[39;00m mutated \u001b[38;5;129;01mand\u001b[39;00m \u001b[38;5;129;01mnot\u001b[39;00m _is_indexed_like(res, group_axes, axis):\n\u001b[0;32m    921\u001b[0m     mutated \u001b[38;5;241m=\u001b[39m \u001b[38;5;28;01mTrue\u001b[39;00m\n",
      "File \u001b[1;32m~\\anaconda3\\Lib\\site-packages\\pandas\\core\\groupby\\groupby.py:1809\u001b[0m, in \u001b[0;36mGroupBy.apply.<locals>.f\u001b[1;34m(g)\u001b[0m\n\u001b[0;32m   1807\u001b[0m \u001b[38;5;129m@wraps\u001b[39m(func)\n\u001b[0;32m   1808\u001b[0m \u001b[38;5;28;01mdef\u001b[39;00m \u001b[38;5;21mf\u001b[39m(g):\n\u001b[1;32m-> 1809\u001b[0m     \u001b[38;5;28;01mreturn\u001b[39;00m func(g, \u001b[38;5;241m*\u001b[39margs, \u001b[38;5;241m*\u001b[39m\u001b[38;5;241m*\u001b[39mkwargs)\n",
      "File \u001b[1;32m~\\anaconda3\\Lib\\site-packages\\seaborn\\_statistics.py:517\u001b[0m, in \u001b[0;36mEstimateAggregator.__call__\u001b[1;34m(self, data, var)\u001b[0m\n\u001b[0;32m    515\u001b[0m \u001b[38;5;28;01melif\u001b[39;00m \u001b[38;5;28mself\u001b[39m\u001b[38;5;241m.\u001b[39merror_method \u001b[38;5;241m==\u001b[39m \u001b[38;5;124m\"\u001b[39m\u001b[38;5;124mci\u001b[39m\u001b[38;5;124m\"\u001b[39m:\n\u001b[0;32m    516\u001b[0m     units \u001b[38;5;241m=\u001b[39m data\u001b[38;5;241m.\u001b[39mget(\u001b[38;5;124m\"\u001b[39m\u001b[38;5;124munits\u001b[39m\u001b[38;5;124m\"\u001b[39m, \u001b[38;5;28;01mNone\u001b[39;00m)\n\u001b[1;32m--> 517\u001b[0m     boots \u001b[38;5;241m=\u001b[39m bootstrap(vals, units\u001b[38;5;241m=\u001b[39munits, func\u001b[38;5;241m=\u001b[39m\u001b[38;5;28mself\u001b[39m\u001b[38;5;241m.\u001b[39mestimator, \u001b[38;5;241m*\u001b[39m\u001b[38;5;241m*\u001b[39m\u001b[38;5;28mself\u001b[39m\u001b[38;5;241m.\u001b[39mboot_kws)\n\u001b[0;32m    518\u001b[0m     err_min, err_max \u001b[38;5;241m=\u001b[39m _percentile_interval(boots, \u001b[38;5;28mself\u001b[39m\u001b[38;5;241m.\u001b[39merror_level)\n\u001b[0;32m    520\u001b[0m \u001b[38;5;28;01mreturn\u001b[39;00m pd\u001b[38;5;241m.\u001b[39mSeries({var: estimate, \u001b[38;5;124mf\u001b[39m\u001b[38;5;124m\"\u001b[39m\u001b[38;5;132;01m{\u001b[39;00mvar\u001b[38;5;132;01m}\u001b[39;00m\u001b[38;5;124mmin\u001b[39m\u001b[38;5;124m\"\u001b[39m: err_min, \u001b[38;5;124mf\u001b[39m\u001b[38;5;124m\"\u001b[39m\u001b[38;5;132;01m{\u001b[39;00mvar\u001b[38;5;132;01m}\u001b[39;00m\u001b[38;5;124mmax\u001b[39m\u001b[38;5;124m\"\u001b[39m: err_max})\n",
      "File \u001b[1;32m~\\anaconda3\\Lib\\site-packages\\seaborn\\algorithms.py:98\u001b[0m, in \u001b[0;36mbootstrap\u001b[1;34m(*args, **kwargs)\u001b[0m\n\u001b[0;32m     96\u001b[0m boot_dist \u001b[38;5;241m=\u001b[39m []\n\u001b[0;32m     97\u001b[0m \u001b[38;5;28;01mfor\u001b[39;00m i \u001b[38;5;129;01min\u001b[39;00m \u001b[38;5;28mrange\u001b[39m(\u001b[38;5;28mint\u001b[39m(n_boot)):\n\u001b[1;32m---> 98\u001b[0m     resampler \u001b[38;5;241m=\u001b[39m integers(\u001b[38;5;241m0\u001b[39m, n, n, dtype\u001b[38;5;241m=\u001b[39mnp\u001b[38;5;241m.\u001b[39mintp)  \u001b[38;5;66;03m# intp is indexing dtype\u001b[39;00m\n\u001b[0;32m     99\u001b[0m     sample \u001b[38;5;241m=\u001b[39m [a\u001b[38;5;241m.\u001b[39mtake(resampler, axis\u001b[38;5;241m=\u001b[39m\u001b[38;5;241m0\u001b[39m) \u001b[38;5;28;01mfor\u001b[39;00m a \u001b[38;5;129;01min\u001b[39;00m args]\n\u001b[0;32m    100\u001b[0m     boot_dist\u001b[38;5;241m.\u001b[39mappend(f(\u001b[38;5;241m*\u001b[39msample, \u001b[38;5;241m*\u001b[39m\u001b[38;5;241m*\u001b[39mfunc_kwargs))\n",
      "\u001b[1;31mKeyboardInterrupt\u001b[0m: "
     ]
    },
    {
     "data": {
      "image/png": "[encoded data removed]",
      "text/plain": [
       "<Figure size 640x480 with 1 Axes>"
      ]
     },
     "metadata": {},
     "output_type": "display_data"
    }
   ],
   "source": [
    "# Create a line chart\n",
    "line_2 = sns.lineplot(data = instacart_small_2, x = 'age',y = 'n_dependants')"
   ]
  },
  {
   "cell_type": "markdown",
   "id": "bd56f41d-086f-4d00-adef-156265213b10",
   "metadata": {},
   "source": [
    "## There does not seem to be any clear corralation between age and the number of dependants. For a clearer idea, a scatter plot would be a better tool."
   ]
  },
  {
   "cell_type": "markdown",
   "id": "f46be00b-385c-41f3-8bed-290528a8135e",
   "metadata": {},
   "source": [
    "# 7. Explore whether there’s a connection between age and spending power (income) using a scatterplot"
   ]
  },
  {
   "cell_type": "code",
   "execution_count": null,
   "id": "e8d20d77-e277-47ca-a762-6a023299c520",
   "metadata": {},
   "outputs": [],
   "source": [
    "# Select only the columns needed for the analysis\n",
    "instacart_small_3 = small [['age','income']]"
   ]
  },
  {
   "cell_type": "code",
   "execution_count": null,
   "id": "87b673d2-0604-4bba-af6e-d00b3e61dffd",
   "metadata": {},
   "outputs": [],
   "source": [
    "# Create a scatterplotplt.\n",
    "scatterplot = sns.scatterplot(x = 'age', y = 'income',data = instacart_small_3)\n",
    "plt.tight_layout()"
   ]
  },
  {
   "cell_type": "markdown",
   "id": "c198a4af-8897-45fe-9b4b-57fcbfe1863d",
   "metadata": {},
   "source": [
    "## There is a broad range of incomes among younger age groups, particularly between ages 20 and 40, with a noticeable concentration at the lower end of the income spectrum. From around age 40 onward, there seems to be an upward trend in income, with more data points clustered in the higher income brackets. This pattern may suggest that income tends to increase with age. The highest concentration of points for individuals over 40 appears significantly higher on the income scale compared to those under 40, indicating a possible rise in median income with age. While the scatterplot visually suggests trends, such as potential income growth with age, further statistical analysis would be needed to confirm any correlations and to better understand the relationship between age and income among the customers."
   ]
  },
  {
   "cell_type": "code",
   "execution_count": null,
   "id": "edb422c0-2331-4606-a7ca-93e11dc44df0",
   "metadata": {},
   "outputs": [],
   "source": [
    "crosstab_region = pd.crosstab(instacart_data['price'], instacart_data['loyalty_flag'], dropna = False)"
   ]
  },
  {
   "cell_type": "markdown",
   "id": "3258d3c8-d77d-4421-9297-cd367f1561cc",
   "metadata": {},
   "source": [
    "# 8. Export your visualizations as “.png” files in your relevant project folder"
   ]
  },
  {
   "cell_type": "code",
   "execution_count": null,
   "id": "e4c8f83e-49aa-4f11-aa88-9e9283932fa9",
   "metadata": {},
   "outputs": [],
   "source": [
    "# Create new directory path\n",
    "path2 = r'C:\\Users\\luke_\\Desktop\\CF Datacourse\\Python_exercise4\\09-2024 Instacart Basket Analysis\\04_analysis'"
   ]
  },
  {
   "cell_type": "code",
   "execution_count": null,
   "id": "48b4151a-7249-4541-a316-127fbe1c0260",
   "metadata": {},
   "outputs": [],
   "source": [
    "hist.figure.savefig(os.path.join(path2,'visualisations', 'hist_order_frequency.png'))"
   ]
  },
  {
   "cell_type": "code",
   "execution_count": null,
   "id": "47a99c1c-8efd-4bd2-9405-0124e490390d",
   "metadata": {},
   "outputs": [],
   "source": [
    "bar.figure.savefig(os.path.join(path2,'visualisations', 'customer_loyalty_distribution.png'))"
   ]
  },
  {
   "cell_type": "code",
   "execution_count": null,
   "id": "2bd1083d-8b48-4bfa-b303-0bb6b20211bc",
   "metadata": {},
   "outputs": [],
   "source": [
    "line.figure.savefig(os.path.join(path2, 'visualisations', 'price_by_hour.png'))"
   ]
  },
  {
   "cell_type": "code",
   "execution_count": null,
   "id": "1591330f-8793-4139-9803-df5c526354c8",
   "metadata": {},
   "outputs": [],
   "source": [
    "line_2.figure.savefig(os.path.join(path2,'visualisations', 'age_and_n_dependants.png'))"
   ]
  },
  {
   "cell_type": "code",
   "execution_count": null,
   "id": "c34a2022-5838-4154-a831-0ab75c70d978",
   "metadata": {},
   "outputs": [],
   "source": [
    "scatterplot.figure.savefig(os.path.join(path2, 'visualisations', 'income_by_age.png'))"
   ]
  },
  {
   "cell_type": "code",
   "execution_count": null,
   "id": "82cfff2c-3821-4b69-a10b-12c31d0ca393",
   "metadata": {},
   "outputs": [],
   "source": []
  }
 ],
 "metadata": {
  "kernelspec": {
   "display_name": "Python 3 (ipykernel)",
   "language": "python",
   "name": "python3"
  },
  "language_info": {
   "codemirror_mode": {
    "name": "ipython",
    "version": 3
   },
   "file_extension": ".py",
   "mimetype": "text/x-python",
   "name": "python",
   "nbconvert_exporter": "python",
   "pygments_lexer": "ipython3",
   "version": "3.12.4"
  }
 },
 "nbformat": 4,
 "nbformat_minor": 5
}

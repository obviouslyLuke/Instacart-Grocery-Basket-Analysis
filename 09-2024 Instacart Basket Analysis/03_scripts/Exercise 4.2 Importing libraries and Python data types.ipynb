{
 "cells": [
  {
   "cell_type": "markdown",
   "id": "5d7297c0-7783-49a9-98f0-f51fecf3f55a",
   "metadata": {},
   "source": [
    "# 01.Importing Libraries"
   ]
  },
  {
   "cell_type": "code",
   "execution_count": 1,
   "id": "006a8709-291f-4ac4-8c2a-d266237ced9e",
   "metadata": {},
   "outputs": [],
   "source": [
    "# import_libraries\n",
    "import pandas as pd\n",
    "import numpy as np\n",
    "import os"
   ]
  },
  {
   "cell_type": "markdown",
   "id": "2d88cbcd-be35-4abf-ba83-a3b469a3ebbd",
   "metadata": {},
   "source": [
    "# 02. Data Types"
   ]
  },
  {
   "cell_type": "code",
   "execution_count": 2,
   "id": "7e262cf0-33e8-41ea-9212-ec49f41de82d",
   "metadata": {},
   "outputs": [],
   "source": [
    "#addition_to_100\n",
    "a=25\n",
    "b=50\n",
    "c=200\n"
   ]
  },
  {
   "cell_type": "code",
   "execution_count": 8,
   "id": "d0a115c8-0a07-43c8-8378-ac835ff2ec1f",
   "metadata": {},
   "outputs": [
    {
     "data": {
      "text/plain": [
       "100"
      ]
     },
     "execution_count": 8,
     "metadata": {},
     "output_type": "execute_result"
    }
   ],
   "source": [
    "a+a+a+a"
   ]
  },
  {
   "cell_type": "code",
   "execution_count": 4,
   "id": "cf613ec1-a611-4690-b0b2-cb3a7ee428b2",
   "metadata": {},
   "outputs": [
    {
     "data": {
      "text/plain": [
       "100"
      ]
     },
     "execution_count": 4,
     "metadata": {},
     "output_type": "execute_result"
    }
   ],
   "source": [
    "b+b"
   ]
  },
  {
   "cell_type": "code",
   "execution_count": 6,
   "id": "f6ac0778-7f4e-46b2-a9ab-539340eb244f",
   "metadata": {},
   "outputs": [
    {
     "data": {
      "text/plain": [
       "100"
      ]
     },
     "execution_count": 6,
     "metadata": {},
     "output_type": "execute_result"
    }
   ],
   "source": [
    "c-(b+b)"
   ]
  },
  {
   "cell_type": "code",
   "execution_count": 20,
   "id": "0b3ff7ab-75b6-4e82-b001-4482ce10e1b8",
   "metadata": {},
   "outputs": [],
   "source": [
    "#subtraction_to_100\n",
    "a=25\n",
    "b=50\n",
    "c=200"
   ]
  },
  {
   "cell_type": "code",
   "execution_count": 23,
   "id": "578ce8d5-f7ae-426d-8d0f-d7c93cbc043d",
   "metadata": {},
   "outputs": [
    {
     "data": {
      "text/plain": [
       "100"
      ]
     },
     "execution_count": 23,
     "metadata": {},
     "output_type": "execute_result"
    }
   ],
   "source": [
    "c-(b+b)"
   ]
  },
  {
   "cell_type": "code",
   "execution_count": 10,
   "id": "108e57da-c9de-4fc9-b199-4ec3c8c88bea",
   "metadata": {
    "scrolled": true
   },
   "outputs": [
    {
     "data": {
      "text/plain": [
       "100.0"
      ]
     },
     "execution_count": 10,
     "metadata": {},
     "output_type": "execute_result"
    }
   ],
   "source": [
    "c/2"
   ]
  },
  {
   "cell_type": "code",
   "execution_count": 24,
   "id": "5132fbac-347c-4bff-bc7a-0a7541c97a5a",
   "metadata": {},
   "outputs": [
    {
     "data": {
      "text/plain": [
       "100"
      ]
     },
     "execution_count": 24,
     "metadata": {},
     "output_type": "execute_result"
    }
   ],
   "source": [
    "c-b-b"
   ]
  },
  {
   "cell_type": "code",
   "execution_count": 11,
   "id": "2679f06c-1ea2-4eeb-874b-6911cdaaaf75",
   "metadata": {},
   "outputs": [],
   "source": [
    "#floating_point_division\n",
    "a=15.2345\n",
    "b=98.847463547748"
   ]
  },
  {
   "cell_type": "code",
   "execution_count": 12,
   "id": "4e3e3fb4-8790-47be-9c15-b595e38c845e",
   "metadata": {},
   "outputs": [
    {
     "data": {
      "text/plain": [
       "6.488395651169911"
      ]
     },
     "execution_count": 12,
     "metadata": {},
     "output_type": "execute_result"
    }
   ],
   "source": [
    "b/a"
   ]
  },
  {
   "cell_type": "code",
   "execution_count": 13,
   "id": "bf00b462-8e94-47d7-8c27-16c2a31ae278",
   "metadata": {},
   "outputs": [],
   "source": [
    "#short_word_made_up_of_strings\n",
    "a= 'Foot'\n",
    "b= 'ball'"
   ]
  },
  {
   "cell_type": "code",
   "execution_count": 15,
   "id": "c39cb9f3-934b-4039-8f9a-754100911e3d",
   "metadata": {},
   "outputs": [
    {
     "name": "stdout",
     "output_type": "stream",
     "text": [
      "Football\n"
     ]
    }
   ],
   "source": [
    "print (a+b)"
   ]
  },
  {
   "cell_type": "code",
   "execution_count": 29,
   "id": "0595e917-0d9c-43bf-82fc-017fc8f14fe6",
   "metadata": {},
   "outputs": [],
   "source": [
    "#create_sentences_from_strings\n",
    "a='At the beginning, '\n",
    "b='python isnt that hard. '\n",
    "c='I hope it stays this way!'"
   ]
  },
  {
   "cell_type": "code",
   "execution_count": 30,
   "id": "0abb1d02-5d94-4e3f-9729-f32cd1b9c6ba",
   "metadata": {},
   "outputs": [
    {
     "name": "stdout",
     "output_type": "stream",
     "text": [
      "At the beginning, python isnt that hard. I hope it stays this way!\n"
     ]
    }
   ],
   "source": [
    "print(a+b+c)"
   ]
  },
  {
   "cell_type": "code",
   "execution_count": 31,
   "id": "14cfc591-3a09-456b-85de-9b7a0aaaea9f",
   "metadata": {},
   "outputs": [],
   "source": [
    "#bonus_question\n",
    "a= 'Pizza!'"
   ]
  },
  {
   "cell_type": "code",
   "execution_count": 32,
   "id": "7450b43a-705c-4521-9ff4-857813109c68",
   "metadata": {},
   "outputs": [
    {
     "data": {
      "text/plain": [
       "'Pizza!Pizza!Pizza!Pizza!Pizza!Pizza!Pizza!Pizza!Pizza!Pizza!Pizza!Pizza!Pizza!Pizza!Pizza!Pizza!Pizza!Pizza!Pizza!Pizza!Pizza!Pizza!Pizza!Pizza!Pizza!Pizza!Pizza!Pizza!Pizza!Pizza!Pizza!Pizza!Pizza!Pizza!Pizza!Pizza!Pizza!Pizza!Pizza!Pizza!Pizza!Pizza!Pizza!Pizza!Pizza!Pizza!Pizza!Pizza!Pizza!Pizza!Pizza!Pizza!Pizza!Pizza!Pizza!Pizza!Pizza!Pizza!Pizza!Pizza!Pizza!Pizza!Pizza!Pizza!Pizza!Pizza!Pizza!Pizza!Pizza!Pizza!Pizza!Pizza!Pizza!Pizza!Pizza!Pizza!Pizza!Pizza!Pizza!Pizza!Pizza!Pizza!Pizza!Pizza!Pizza!Pizza!Pizza!Pizza!Pizza!Pizza!Pizza!Pizza!Pizza!Pizza!Pizza!Pizza!Pizza!Pizza!Pizza!Pizza!'"
      ]
     },
     "execution_count": 32,
     "metadata": {},
     "output_type": "execute_result"
    }
   ],
   "source": [
    "a*100"
   ]
  },
  {
   "cell_type": "code",
   "execution_count": null,
   "id": "257d7e89-48a6-40bd-8733-7cad8734ea12",
   "metadata": {},
   "outputs": [],
   "source": []
  }
 ],
 "metadata": {
  "kernelspec": {
   "display_name": "Python 3 (ipykernel)",
   "language": "python",
   "name": "python3"
  },
  "language_info": {
   "codemirror_mode": {
    "name": "ipython",
    "version": 3
   },
   "file_extension": ".py",
   "mimetype": "text/x-python",
   "name": "python",
   "nbconvert_exporter": "python",
   "pygments_lexer": "ipython3",
   "version": "3.12.4"
  }
 },
 "nbformat": 4,
 "nbformat_minor": 5
}

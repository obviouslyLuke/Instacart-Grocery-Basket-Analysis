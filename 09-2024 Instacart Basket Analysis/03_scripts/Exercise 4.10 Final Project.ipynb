{
 "cells": [
  {
   "cell_type": "markdown",
   "id": "812eafff-831d-4a45-a781-feab7fd95788",
   "metadata": {},
   "source": [
    "# This notebook includes:\n",
    "### 1.Import libraries and Data\n",
    "### 2.Security implications and addressing PII data\n",
    "### 3.Regional segmentation\n",
    "### 4.Exclusion of low-activity customer\n",
    "### 5.Customer Profiling\n",
    "### 6.Comparing customer profiles with departments\n",
    "### 7.Comparing customer profiles with regions\n",
    "### 8.Aggregating the max, mean, and min on a customer-profile level for usage frequency and expenditure"
   ]
  },
  {
   "cell_type": "markdown",
   "id": "54dcd650-1345-460c-9176-357991f2efd2",
   "metadata": {},
   "source": [
    "## 1.Import libraries and Data"
   ]
  },
  {
   "cell_type": "code",
   "execution_count": 1,
   "id": "adcf7954-fc75-447b-9fbb-b3f085e6d57e",
   "metadata": {},
   "outputs": [],
   "source": [
    "# import Libraries\n",
    "import pandas as pd\n",
    "import numpy as np\n",
    "import os\n",
    "import matplotlib.pyplot as plt\n",
    "from matplotlib.ticker import FuncFormatter\n",
    "import seaborn as sns\n",
    "import scipy"
   ]
  },
  {
   "cell_type": "code",
   "execution_count": 2,
   "id": "63ed37a5-47af-43e6-81cb-5e776e8497b2",
   "metadata": {},
   "outputs": [],
   "source": [
    "# Create directory Path\n",
    "path = r'C:\\Users\\luke_\\Desktop\\CF Datacourse\\Python_exercise4\\09-2024 Instacart Basket Analysis'"
   ]
  },
  {
   "cell_type": "code",
   "execution_count": 3,
   "id": "3d1a4aee-4044-4abf-9b8a-2efe52b46053",
   "metadata": {},
   "outputs": [],
   "source": [
    "# Import data frame\n",
    "instacart_data = pd.read_pickle(os.path.join(path, '02_data', 'prepared_data', 'ords_prods_custos_merged.pkl'))"
   ]
  },
  {
   "cell_type": "code",
   "execution_count": 4,
   "id": "97acbcd5-4fba-4cdf-8496-b70dd181e1e9",
   "metadata": {},
   "outputs": [
    {
     "data": {
      "text/plain": [
       "(32404859, 33)"
      ]
     },
     "execution_count": 4,
     "metadata": {},
     "output_type": "execute_result"
    }
   ],
   "source": [
    "instacart_data.shape"
   ]
  },
  {
   "cell_type": "code",
   "execution_count": 5,
   "id": "d922cdb9-c6df-4417-93f9-f0fd5e542977",
   "metadata": {
    "scrolled": true
   },
   "outputs": [
    {
     "data": {
      "text/html": [
       "<div>\n",
       "<style scoped>\n",
       "    .dataframe tbody tr th:only-of-type {\n",
       "        vertical-align: middle;\n",
       "    }\n",
       "\n",
       "    .dataframe tbody tr th {\n",
       "        vertical-align: top;\n",
       "    }\n",
       "\n",
       "    .dataframe thead th {\n",
       "        text-align: right;\n",
       "    }\n",
       "</style>\n",
       "<table border=\"1\" class=\"dataframe\">\n",
       "  <thead>\n",
       "    <tr style=\"text-align: right;\">\n",
       "      <th></th>\n",
       "      <th>product_id</th>\n",
       "      <th>product_name</th>\n",
       "      <th>aisle_id</th>\n",
       "      <th>department_id</th>\n",
       "      <th>prices</th>\n",
       "      <th>order_id</th>\n",
       "      <th>user_id</th>\n",
       "      <th>order_number</th>\n",
       "      <th>order_day_of_week</th>\n",
       "      <th>time_of_order</th>\n",
       "      <th>...</th>\n",
       "      <th>first_name</th>\n",
       "      <th>last_name</th>\n",
       "      <th>gender</th>\n",
       "      <th>state</th>\n",
       "      <th>age</th>\n",
       "      <th>date_joined</th>\n",
       "      <th>n_dependants</th>\n",
       "      <th>fam_status</th>\n",
       "      <th>income</th>\n",
       "      <th>_merge</th>\n",
       "    </tr>\n",
       "  </thead>\n",
       "  <tbody>\n",
       "    <tr>\n",
       "      <th>0</th>\n",
       "      <td>1</td>\n",
       "      <td>Chocolate Sandwich Cookies</td>\n",
       "      <td>61</td>\n",
       "      <td>19</td>\n",
       "      <td>5.8</td>\n",
       "      <td>3139998</td>\n",
       "      <td>138</td>\n",
       "      <td>28</td>\n",
       "      <td>6</td>\n",
       "      <td>11</td>\n",
       "      <td>...</td>\n",
       "      <td>Charles</td>\n",
       "      <td>Cox</td>\n",
       "      <td>Male</td>\n",
       "      <td>Minnesota</td>\n",
       "      <td>81</td>\n",
       "      <td>8/1/2019</td>\n",
       "      <td>1</td>\n",
       "      <td>married</td>\n",
       "      <td>49620</td>\n",
       "      <td>both</td>\n",
       "    </tr>\n",
       "    <tr>\n",
       "      <th>1</th>\n",
       "      <td>1</td>\n",
       "      <td>Chocolate Sandwich Cookies</td>\n",
       "      <td>61</td>\n",
       "      <td>19</td>\n",
       "      <td>5.8</td>\n",
       "      <td>1977647</td>\n",
       "      <td>138</td>\n",
       "      <td>30</td>\n",
       "      <td>6</td>\n",
       "      <td>17</td>\n",
       "      <td>...</td>\n",
       "      <td>Charles</td>\n",
       "      <td>Cox</td>\n",
       "      <td>Male</td>\n",
       "      <td>Minnesota</td>\n",
       "      <td>81</td>\n",
       "      <td>8/1/2019</td>\n",
       "      <td>1</td>\n",
       "      <td>married</td>\n",
       "      <td>49620</td>\n",
       "      <td>both</td>\n",
       "    </tr>\n",
       "    <tr>\n",
       "      <th>2</th>\n",
       "      <td>1</td>\n",
       "      <td>Chocolate Sandwich Cookies</td>\n",
       "      <td>61</td>\n",
       "      <td>19</td>\n",
       "      <td>5.8</td>\n",
       "      <td>389851</td>\n",
       "      <td>709</td>\n",
       "      <td>2</td>\n",
       "      <td>0</td>\n",
       "      <td>21</td>\n",
       "      <td>...</td>\n",
       "      <td>Deborah</td>\n",
       "      <td>Glass</td>\n",
       "      <td>Female</td>\n",
       "      <td>Vermont</td>\n",
       "      <td>66</td>\n",
       "      <td>6/16/2018</td>\n",
       "      <td>2</td>\n",
       "      <td>married</td>\n",
       "      <td>158302</td>\n",
       "      <td>both</td>\n",
       "    </tr>\n",
       "    <tr>\n",
       "      <th>3</th>\n",
       "      <td>1</td>\n",
       "      <td>Chocolate Sandwich Cookies</td>\n",
       "      <td>61</td>\n",
       "      <td>19</td>\n",
       "      <td>5.8</td>\n",
       "      <td>652770</td>\n",
       "      <td>764</td>\n",
       "      <td>1</td>\n",
       "      <td>3</td>\n",
       "      <td>13</td>\n",
       "      <td>...</td>\n",
       "      <td>Heather</td>\n",
       "      <td>Myers</td>\n",
       "      <td>Female</td>\n",
       "      <td>Wisconsin</td>\n",
       "      <td>40</td>\n",
       "      <td>2/9/2020</td>\n",
       "      <td>3</td>\n",
       "      <td>married</td>\n",
       "      <td>31308</td>\n",
       "      <td>both</td>\n",
       "    </tr>\n",
       "    <tr>\n",
       "      <th>4</th>\n",
       "      <td>1</td>\n",
       "      <td>Chocolate Sandwich Cookies</td>\n",
       "      <td>61</td>\n",
       "      <td>19</td>\n",
       "      <td>5.8</td>\n",
       "      <td>1813452</td>\n",
       "      <td>764</td>\n",
       "      <td>3</td>\n",
       "      <td>4</td>\n",
       "      <td>17</td>\n",
       "      <td>...</td>\n",
       "      <td>Heather</td>\n",
       "      <td>Myers</td>\n",
       "      <td>Female</td>\n",
       "      <td>Wisconsin</td>\n",
       "      <td>40</td>\n",
       "      <td>2/9/2020</td>\n",
       "      <td>3</td>\n",
       "      <td>married</td>\n",
       "      <td>31308</td>\n",
       "      <td>both</td>\n",
       "    </tr>\n",
       "  </tbody>\n",
       "</table>\n",
       "<p>5 rows × 33 columns</p>\n",
       "</div>"
      ],
      "text/plain": [
       "   product_id                product_name  aisle_id  department_id  prices  \\\n",
       "0           1  Chocolate Sandwich Cookies        61             19     5.8   \n",
       "1           1  Chocolate Sandwich Cookies        61             19     5.8   \n",
       "2           1  Chocolate Sandwich Cookies        61             19     5.8   \n",
       "3           1  Chocolate Sandwich Cookies        61             19     5.8   \n",
       "4           1  Chocolate Sandwich Cookies        61             19     5.8   \n",
       "\n",
       "   order_id user_id  order_number  order_day_of_week  time_of_order  ...  \\\n",
       "0   3139998     138            28                  6             11  ...   \n",
       "1   1977647     138            30                  6             17  ...   \n",
       "2    389851     709             2                  0             21  ...   \n",
       "3    652770     764             1                  3             13  ...   \n",
       "4   1813452     764             3                  4             17  ...   \n",
       "\n",
       "   first_name  last_name  gender      state age date_joined n_dependants  \\\n",
       "0     Charles        Cox    Male  Minnesota  81    8/1/2019            1   \n",
       "1     Charles        Cox    Male  Minnesota  81    8/1/2019            1   \n",
       "2     Deborah      Glass  Female    Vermont  66   6/16/2018            2   \n",
       "3     Heather      Myers  Female  Wisconsin  40    2/9/2020            3   \n",
       "4     Heather      Myers  Female  Wisconsin  40    2/9/2020            3   \n",
       "\n",
       "   fam_status  income  _merge  \n",
       "0     married   49620    both  \n",
       "1     married   49620    both  \n",
       "2     married  158302    both  \n",
       "3     married   31308    both  \n",
       "4     married   31308    both  \n",
       "\n",
       "[5 rows x 33 columns]"
      ]
     },
     "execution_count": 5,
     "metadata": {},
     "output_type": "execute_result"
    }
   ],
   "source": [
    "instacart_data.head()"
   ]
  },
  {
   "cell_type": "code",
   "execution_count": 6,
   "id": "11b14a3a-800d-4a14-996f-752370a8b61e",
   "metadata": {},
   "outputs": [
    {
     "name": "stdout",
     "output_type": "stream",
     "text": [
      "<class 'pandas.core.frame.DataFrame'>\n",
      "RangeIndex: 32404859 entries, 0 to 32404858\n",
      "Data columns (total 33 columns):\n",
      " #   Column                   Dtype   \n",
      "---  ------                   -----   \n",
      " 0   product_id               int64   \n",
      " 1   product_name             object  \n",
      " 2   aisle_id                 int64   \n",
      " 3   department_id            int64   \n",
      " 4   prices                   float64 \n",
      " 5   order_id                 int64   \n",
      " 6   user_id                  object  \n",
      " 7   order_number             int64   \n",
      " 8   order_day_of_week        int64   \n",
      " 9   time_of_order            int64   \n",
      " 10  days_since_prior_order   float64 \n",
      " 11  add_to_cart_order        int64   \n",
      " 12  reordered                int64   \n",
      " 13  price_range_loc          object  \n",
      " 14  Busiest_day              object  \n",
      " 15  days_performance         object  \n",
      " 16  busiest_period_of_day    object  \n",
      " 17  max_order                int64   \n",
      " 18  loyalty_flag             object  \n",
      " 19  user_order_behaviour     float64 \n",
      " 20  frequency_flag           object  \n",
      " 21  user_spending_behaviour  float64 \n",
      " 22  spending_flag            object  \n",
      " 23  first_name               object  \n",
      " 24  last_name                object  \n",
      " 25  gender                   object  \n",
      " 26  state                    object  \n",
      " 27  age                      int64   \n",
      " 28  date_joined              object  \n",
      " 29  n_dependants             int64   \n",
      " 30  fam_status               object  \n",
      " 31  income                   int64   \n",
      " 32  _merge                   category\n",
      "dtypes: category(1), float64(4), int64(13), object(15)\n",
      "memory usage: 7.8+ GB\n"
     ]
    }
   ],
   "source": [
    "instacart_data.info()"
   ]
  },
  {
   "cell_type": "markdown",
   "id": "69fda27e-b7d2-4a88-9887-a3989967b83d",
   "metadata": {},
   "source": [
    "## 2.Security implications and addressing PII data"
   ]
  },
  {
   "cell_type": "markdown",
   "id": "4ca9602d-d15b-4d5d-98fc-f5a5d8cb23b7",
   "metadata": {},
   "source": [
    "### PPI data or Personal Identifiable Information is sensitive information which can identify individuals within a dataset.\n",
    "### This needs to be removed from the dataframe before results are handed off to anyone. First and last name are the most important here.\n",
    "### We will drop these from our dataframe now."
   ]
  },
  {
   "cell_type": "code",
   "execution_count": 7,
   "id": "9bce4c95-ddcd-401e-94cb-4895bd0c4ca1",
   "metadata": {},
   "outputs": [],
   "source": [
    "# Dropping columns first_name and last_name\n",
    "instacart_data = instacart_data.drop(columns=['first_name','last_name'])"
   ]
  },
  {
   "cell_type": "code",
   "execution_count": 8,
   "id": "8c7963f6-6c99-4260-8eae-70af9597e49b",
   "metadata": {},
   "outputs": [
    {
     "data": {
      "text/html": [
       "<div>\n",
       "<style scoped>\n",
       "    .dataframe tbody tr th:only-of-type {\n",
       "        vertical-align: middle;\n",
       "    }\n",
       "\n",
       "    .dataframe tbody tr th {\n",
       "        vertical-align: top;\n",
       "    }\n",
       "\n",
       "    .dataframe thead th {\n",
       "        text-align: right;\n",
       "    }\n",
       "</style>\n",
       "<table border=\"1\" class=\"dataframe\">\n",
       "  <thead>\n",
       "    <tr style=\"text-align: right;\">\n",
       "      <th></th>\n",
       "      <th>product_id</th>\n",
       "      <th>product_name</th>\n",
       "      <th>aisle_id</th>\n",
       "      <th>department_id</th>\n",
       "      <th>prices</th>\n",
       "      <th>order_id</th>\n",
       "      <th>user_id</th>\n",
       "      <th>order_number</th>\n",
       "      <th>order_day_of_week</th>\n",
       "      <th>time_of_order</th>\n",
       "      <th>...</th>\n",
       "      <th>user_spending_behaviour</th>\n",
       "      <th>spending_flag</th>\n",
       "      <th>gender</th>\n",
       "      <th>state</th>\n",
       "      <th>age</th>\n",
       "      <th>date_joined</th>\n",
       "      <th>n_dependants</th>\n",
       "      <th>fam_status</th>\n",
       "      <th>income</th>\n",
       "      <th>_merge</th>\n",
       "    </tr>\n",
       "  </thead>\n",
       "  <tbody>\n",
       "    <tr>\n",
       "      <th>0</th>\n",
       "      <td>1</td>\n",
       "      <td>Chocolate Sandwich Cookies</td>\n",
       "      <td>61</td>\n",
       "      <td>19</td>\n",
       "      <td>5.8</td>\n",
       "      <td>3139998</td>\n",
       "      <td>138</td>\n",
       "      <td>28</td>\n",
       "      <td>6</td>\n",
       "      <td>11</td>\n",
       "      <td>...</td>\n",
       "      <td>6.935811</td>\n",
       "      <td>High Spender</td>\n",
       "      <td>Male</td>\n",
       "      <td>Minnesota</td>\n",
       "      <td>81</td>\n",
       "      <td>8/1/2019</td>\n",
       "      <td>1</td>\n",
       "      <td>married</td>\n",
       "      <td>49620</td>\n",
       "      <td>both</td>\n",
       "    </tr>\n",
       "    <tr>\n",
       "      <th>1</th>\n",
       "      <td>1</td>\n",
       "      <td>Chocolate Sandwich Cookies</td>\n",
       "      <td>61</td>\n",
       "      <td>19</td>\n",
       "      <td>5.8</td>\n",
       "      <td>1977647</td>\n",
       "      <td>138</td>\n",
       "      <td>30</td>\n",
       "      <td>6</td>\n",
       "      <td>17</td>\n",
       "      <td>...</td>\n",
       "      <td>6.935811</td>\n",
       "      <td>High Spender</td>\n",
       "      <td>Male</td>\n",
       "      <td>Minnesota</td>\n",
       "      <td>81</td>\n",
       "      <td>8/1/2019</td>\n",
       "      <td>1</td>\n",
       "      <td>married</td>\n",
       "      <td>49620</td>\n",
       "      <td>both</td>\n",
       "    </tr>\n",
       "    <tr>\n",
       "      <th>2</th>\n",
       "      <td>1</td>\n",
       "      <td>Chocolate Sandwich Cookies</td>\n",
       "      <td>61</td>\n",
       "      <td>19</td>\n",
       "      <td>5.8</td>\n",
       "      <td>389851</td>\n",
       "      <td>709</td>\n",
       "      <td>2</td>\n",
       "      <td>0</td>\n",
       "      <td>21</td>\n",
       "      <td>...</td>\n",
       "      <td>7.930208</td>\n",
       "      <td>High Spender</td>\n",
       "      <td>Female</td>\n",
       "      <td>Vermont</td>\n",
       "      <td>66</td>\n",
       "      <td>6/16/2018</td>\n",
       "      <td>2</td>\n",
       "      <td>married</td>\n",
       "      <td>158302</td>\n",
       "      <td>both</td>\n",
       "    </tr>\n",
       "    <tr>\n",
       "      <th>3</th>\n",
       "      <td>1</td>\n",
       "      <td>Chocolate Sandwich Cookies</td>\n",
       "      <td>61</td>\n",
       "      <td>19</td>\n",
       "      <td>5.8</td>\n",
       "      <td>652770</td>\n",
       "      <td>764</td>\n",
       "      <td>1</td>\n",
       "      <td>3</td>\n",
       "      <td>13</td>\n",
       "      <td>...</td>\n",
       "      <td>4.972414</td>\n",
       "      <td>High Spender</td>\n",
       "      <td>Female</td>\n",
       "      <td>Wisconsin</td>\n",
       "      <td>40</td>\n",
       "      <td>2/9/2020</td>\n",
       "      <td>3</td>\n",
       "      <td>married</td>\n",
       "      <td>31308</td>\n",
       "      <td>both</td>\n",
       "    </tr>\n",
       "    <tr>\n",
       "      <th>4</th>\n",
       "      <td>1</td>\n",
       "      <td>Chocolate Sandwich Cookies</td>\n",
       "      <td>61</td>\n",
       "      <td>19</td>\n",
       "      <td>5.8</td>\n",
       "      <td>1813452</td>\n",
       "      <td>764</td>\n",
       "      <td>3</td>\n",
       "      <td>4</td>\n",
       "      <td>17</td>\n",
       "      <td>...</td>\n",
       "      <td>4.972414</td>\n",
       "      <td>High Spender</td>\n",
       "      <td>Female</td>\n",
       "      <td>Wisconsin</td>\n",
       "      <td>40</td>\n",
       "      <td>2/9/2020</td>\n",
       "      <td>3</td>\n",
       "      <td>married</td>\n",
       "      <td>31308</td>\n",
       "      <td>both</td>\n",
       "    </tr>\n",
       "  </tbody>\n",
       "</table>\n",
       "<p>5 rows × 31 columns</p>\n",
       "</div>"
      ],
      "text/plain": [
       "   product_id                product_name  aisle_id  department_id  prices  \\\n",
       "0           1  Chocolate Sandwich Cookies        61             19     5.8   \n",
       "1           1  Chocolate Sandwich Cookies        61             19     5.8   \n",
       "2           1  Chocolate Sandwich Cookies        61             19     5.8   \n",
       "3           1  Chocolate Sandwich Cookies        61             19     5.8   \n",
       "4           1  Chocolate Sandwich Cookies        61             19     5.8   \n",
       "\n",
       "   order_id user_id  order_number  order_day_of_week  time_of_order  ...  \\\n",
       "0   3139998     138            28                  6             11  ...   \n",
       "1   1977647     138            30                  6             17  ...   \n",
       "2    389851     709             2                  0             21  ...   \n",
       "3    652770     764             1                  3             13  ...   \n",
       "4   1813452     764             3                  4             17  ...   \n",
       "\n",
       "   user_spending_behaviour  spending_flag  gender      state age date_joined  \\\n",
       "0                 6.935811   High Spender    Male  Minnesota  81    8/1/2019   \n",
       "1                 6.935811   High Spender    Male  Minnesota  81    8/1/2019   \n",
       "2                 7.930208   High Spender  Female    Vermont  66   6/16/2018   \n",
       "3                 4.972414   High Spender  Female  Wisconsin  40    2/9/2020   \n",
       "4                 4.972414   High Spender  Female  Wisconsin  40    2/9/2020   \n",
       "\n",
       "  n_dependants  fam_status  income  _merge  \n",
       "0            1     married   49620    both  \n",
       "1            1     married   49620    both  \n",
       "2            2     married  158302    both  \n",
       "3            3     married   31308    both  \n",
       "4            3     married   31308    both  \n",
       "\n",
       "[5 rows x 31 columns]"
      ]
     },
     "execution_count": 8,
     "metadata": {},
     "output_type": "execute_result"
    }
   ],
   "source": [
    "#confirming columns were droped.\n",
    "instacart_data.head()"
   ]
  },
  {
   "cell_type": "markdown",
   "id": "f3d0b615-4fae-4511-a23c-5dc2389c0b8f",
   "metadata": {},
   "source": [
    "## 3.Regional segmentation\n",
    "\n",
    "### The Instacart officers are interested in comparing customer behavior in different geographic areas. \n",
    "### Determine whether there’s a difference in spending habits between the different U.S. regions."
   ]
  },
  {
   "cell_type": "code",
   "execution_count": 9,
   "id": "953dc075-989d-4594-9635-9d8eb84cde09",
   "metadata": {},
   "outputs": [],
   "source": [
    "# Define regions\n",
    "northeast = ['Maine', 'New Hampshire', 'Vermont', 'Massachusetts', 'Rhode Island', 'Connecticut', 'New York', 'Pennsylvania', 'New Jersey']\n",
    "midwest = ['Wisconsin', 'Michigan', 'Illinois', 'Indiana', 'Ohio', 'North Dakota', 'South Dakota', 'Nebraska', 'Kansas', 'Minnesota', 'Iowa', 'Missouri']\n",
    "south = ['Delaware', 'Maryland', 'District of Columbia', 'Virginia', 'West Virginia', 'North Carolina', 'South Carolina', 'Georgia', 'Florida', 'Kentucky', 'Tennessee', 'Mississippi', 'Alabama', 'Oklahoma', 'Texas', 'Arkansas', 'Louisiana'] \n",
    "west = ['Idaho', 'Montana', 'Wyoming', 'Nevada', 'Utah', 'Colorado', 'Arizona', 'New Mexico', 'Alaska','Washington', 'Oregon', 'California', 'Hawaii']"
   ]
  },
  {
   "cell_type": "code",
   "execution_count": 10,
   "id": "4dd77b9b-0088-4185-91c9-cfec3a468c2b",
   "metadata": {},
   "outputs": [],
   "source": [
    "# Create a result list for the 'state' column  showing its corresponding region\n",
    "result = []\n",
    "\n",
    "for value in instacart_data['state']: \n",
    "    if value in northeast:\n",
    "        result.append('northeast')\n",
    "    elif value in midwest:\n",
    "        result.append('midwest')\n",
    "    elif value in south:\n",
    "        result.append('south')\n",
    "    elif value in west:\n",
    "        result.append('west')\n",
    "    else:\n",
    "       result.append('No assigned region')"
   ]
  },
  {
   "cell_type": "code",
   "execution_count": 11,
   "id": "3d3004b3-dc77-4c7e-b2c5-e2cd9677f967",
   "metadata": {},
   "outputs": [],
   "source": [
    "# Assigning result list as new column\n",
    "instacart_data['region'] = result"
   ]
  },
  {
   "cell_type": "code",
   "execution_count": 12,
   "id": "4560f3d3-f7d1-451c-9ba1-7206d016812a",
   "metadata": {},
   "outputs": [
    {
     "data": {
      "text/html": [
       "<div>\n",
       "<style scoped>\n",
       "    .dataframe tbody tr th:only-of-type {\n",
       "        vertical-align: middle;\n",
       "    }\n",
       "\n",
       "    .dataframe tbody tr th {\n",
       "        vertical-align: top;\n",
       "    }\n",
       "\n",
       "    .dataframe thead th {\n",
       "        text-align: right;\n",
       "    }\n",
       "</style>\n",
       "<table border=\"1\" class=\"dataframe\">\n",
       "  <thead>\n",
       "    <tr style=\"text-align: right;\">\n",
       "      <th></th>\n",
       "      <th>product_id</th>\n",
       "      <th>product_name</th>\n",
       "      <th>aisle_id</th>\n",
       "      <th>department_id</th>\n",
       "      <th>prices</th>\n",
       "      <th>order_id</th>\n",
       "      <th>user_id</th>\n",
       "      <th>order_number</th>\n",
       "      <th>order_day_of_week</th>\n",
       "      <th>time_of_order</th>\n",
       "      <th>...</th>\n",
       "      <th>spending_flag</th>\n",
       "      <th>gender</th>\n",
       "      <th>state</th>\n",
       "      <th>age</th>\n",
       "      <th>date_joined</th>\n",
       "      <th>n_dependants</th>\n",
       "      <th>fam_status</th>\n",
       "      <th>income</th>\n",
       "      <th>_merge</th>\n",
       "      <th>region</th>\n",
       "    </tr>\n",
       "  </thead>\n",
       "  <tbody>\n",
       "    <tr>\n",
       "      <th>0</th>\n",
       "      <td>1</td>\n",
       "      <td>Chocolate Sandwich Cookies</td>\n",
       "      <td>61</td>\n",
       "      <td>19</td>\n",
       "      <td>5.8</td>\n",
       "      <td>3139998</td>\n",
       "      <td>138</td>\n",
       "      <td>28</td>\n",
       "      <td>6</td>\n",
       "      <td>11</td>\n",
       "      <td>...</td>\n",
       "      <td>High Spender</td>\n",
       "      <td>Male</td>\n",
       "      <td>Minnesota</td>\n",
       "      <td>81</td>\n",
       "      <td>8/1/2019</td>\n",
       "      <td>1</td>\n",
       "      <td>married</td>\n",
       "      <td>49620</td>\n",
       "      <td>both</td>\n",
       "      <td>midwest</td>\n",
       "    </tr>\n",
       "    <tr>\n",
       "      <th>1</th>\n",
       "      <td>1</td>\n",
       "      <td>Chocolate Sandwich Cookies</td>\n",
       "      <td>61</td>\n",
       "      <td>19</td>\n",
       "      <td>5.8</td>\n",
       "      <td>1977647</td>\n",
       "      <td>138</td>\n",
       "      <td>30</td>\n",
       "      <td>6</td>\n",
       "      <td>17</td>\n",
       "      <td>...</td>\n",
       "      <td>High Spender</td>\n",
       "      <td>Male</td>\n",
       "      <td>Minnesota</td>\n",
       "      <td>81</td>\n",
       "      <td>8/1/2019</td>\n",
       "      <td>1</td>\n",
       "      <td>married</td>\n",
       "      <td>49620</td>\n",
       "      <td>both</td>\n",
       "      <td>midwest</td>\n",
       "    </tr>\n",
       "    <tr>\n",
       "      <th>2</th>\n",
       "      <td>1</td>\n",
       "      <td>Chocolate Sandwich Cookies</td>\n",
       "      <td>61</td>\n",
       "      <td>19</td>\n",
       "      <td>5.8</td>\n",
       "      <td>389851</td>\n",
       "      <td>709</td>\n",
       "      <td>2</td>\n",
       "      <td>0</td>\n",
       "      <td>21</td>\n",
       "      <td>...</td>\n",
       "      <td>High Spender</td>\n",
       "      <td>Female</td>\n",
       "      <td>Vermont</td>\n",
       "      <td>66</td>\n",
       "      <td>6/16/2018</td>\n",
       "      <td>2</td>\n",
       "      <td>married</td>\n",
       "      <td>158302</td>\n",
       "      <td>both</td>\n",
       "      <td>northeast</td>\n",
       "    </tr>\n",
       "    <tr>\n",
       "      <th>3</th>\n",
       "      <td>1</td>\n",
       "      <td>Chocolate Sandwich Cookies</td>\n",
       "      <td>61</td>\n",
       "      <td>19</td>\n",
       "      <td>5.8</td>\n",
       "      <td>652770</td>\n",
       "      <td>764</td>\n",
       "      <td>1</td>\n",
       "      <td>3</td>\n",
       "      <td>13</td>\n",
       "      <td>...</td>\n",
       "      <td>High Spender</td>\n",
       "      <td>Female</td>\n",
       "      <td>Wisconsin</td>\n",
       "      <td>40</td>\n",
       "      <td>2/9/2020</td>\n",
       "      <td>3</td>\n",
       "      <td>married</td>\n",
       "      <td>31308</td>\n",
       "      <td>both</td>\n",
       "      <td>midwest</td>\n",
       "    </tr>\n",
       "    <tr>\n",
       "      <th>4</th>\n",
       "      <td>1</td>\n",
       "      <td>Chocolate Sandwich Cookies</td>\n",
       "      <td>61</td>\n",
       "      <td>19</td>\n",
       "      <td>5.8</td>\n",
       "      <td>1813452</td>\n",
       "      <td>764</td>\n",
       "      <td>3</td>\n",
       "      <td>4</td>\n",
       "      <td>17</td>\n",
       "      <td>...</td>\n",
       "      <td>High Spender</td>\n",
       "      <td>Female</td>\n",
       "      <td>Wisconsin</td>\n",
       "      <td>40</td>\n",
       "      <td>2/9/2020</td>\n",
       "      <td>3</td>\n",
       "      <td>married</td>\n",
       "      <td>31308</td>\n",
       "      <td>both</td>\n",
       "      <td>midwest</td>\n",
       "    </tr>\n",
       "  </tbody>\n",
       "</table>\n",
       "<p>5 rows × 32 columns</p>\n",
       "</div>"
      ],
      "text/plain": [
       "   product_id                product_name  aisle_id  department_id  prices  \\\n",
       "0           1  Chocolate Sandwich Cookies        61             19     5.8   \n",
       "1           1  Chocolate Sandwich Cookies        61             19     5.8   \n",
       "2           1  Chocolate Sandwich Cookies        61             19     5.8   \n",
       "3           1  Chocolate Sandwich Cookies        61             19     5.8   \n",
       "4           1  Chocolate Sandwich Cookies        61             19     5.8   \n",
       "\n",
       "   order_id user_id  order_number  order_day_of_week  time_of_order  ...  \\\n",
       "0   3139998     138            28                  6             11  ...   \n",
       "1   1977647     138            30                  6             17  ...   \n",
       "2    389851     709             2                  0             21  ...   \n",
       "3    652770     764             1                  3             13  ...   \n",
       "4   1813452     764             3                  4             17  ...   \n",
       "\n",
       "   spending_flag  gender      state age date_joined n_dependants fam_status  \\\n",
       "0   High Spender    Male  Minnesota  81    8/1/2019            1    married   \n",
       "1   High Spender    Male  Minnesota  81    8/1/2019            1    married   \n",
       "2   High Spender  Female    Vermont  66   6/16/2018            2    married   \n",
       "3   High Spender  Female  Wisconsin  40    2/9/2020            3    married   \n",
       "4   High Spender  Female  Wisconsin  40    2/9/2020            3    married   \n",
       "\n",
       "   income _merge     region  \n",
       "0   49620   both    midwest  \n",
       "1   49620   both    midwest  \n",
       "2  158302   both  northeast  \n",
       "3   31308   both    midwest  \n",
       "4   31308   both    midwest  \n",
       "\n",
       "[5 rows x 32 columns]"
      ]
     },
     "execution_count": 12,
     "metadata": {},
     "output_type": "execute_result"
    }
   ],
   "source": [
    "# Confirming new column\n",
    "instacart_data.head()"
   ]
  },
  {
   "cell_type": "code",
   "execution_count": 13,
   "id": "13e5e2c8-34cc-4c96-b58b-680f8aca93f7",
   "metadata": {},
   "outputs": [],
   "source": [
    "# crossing the region column with the spending flag\n",
    "crosstab = pd.crosstab(instacart_data['region'], instacart_data['spending_flag'], dropna = False)"
   ]
  },
  {
   "cell_type": "code",
   "execution_count": 14,
   "id": "5f6cb4ef-167e-4a9c-beab-0185d6206eaa",
   "metadata": {},
   "outputs": [
    {
     "data": {
      "text/html": [
       "<div>\n",
       "<style scoped>\n",
       "    .dataframe tbody tr th:only-of-type {\n",
       "        vertical-align: middle;\n",
       "    }\n",
       "\n",
       "    .dataframe tbody tr th {\n",
       "        vertical-align: top;\n",
       "    }\n",
       "\n",
       "    .dataframe thead th {\n",
       "        text-align: right;\n",
       "    }\n",
       "</style>\n",
       "<table border=\"1\" class=\"dataframe\">\n",
       "  <thead>\n",
       "    <tr style=\"text-align: right;\">\n",
       "      <th>spending_flag</th>\n",
       "      <th>High Spender</th>\n",
       "      <th>Low Spender</th>\n",
       "    </tr>\n",
       "    <tr>\n",
       "      <th>region</th>\n",
       "      <th></th>\n",
       "      <th></th>\n",
       "    </tr>\n",
       "  </thead>\n",
       "  <tbody>\n",
       "    <tr>\n",
       "      <th>midwest</th>\n",
       "      <td>7441350</td>\n",
       "      <td>155975</td>\n",
       "    </tr>\n",
       "    <tr>\n",
       "      <th>northeast</th>\n",
       "      <td>5614511</td>\n",
       "      <td>108225</td>\n",
       "    </tr>\n",
       "    <tr>\n",
       "      <th>south</th>\n",
       "      <td>10582194</td>\n",
       "      <td>209691</td>\n",
       "    </tr>\n",
       "    <tr>\n",
       "      <th>west</th>\n",
       "      <td>8132559</td>\n",
       "      <td>160354</td>\n",
       "    </tr>\n",
       "  </tbody>\n",
       "</table>\n",
       "</div>"
      ],
      "text/plain": [
       "spending_flag  High Spender  Low Spender\n",
       "region                                  \n",
       "midwest             7441350       155975\n",
       "northeast           5614511       108225\n",
       "south              10582194       209691\n",
       "west                8132559       160354"
      ]
     },
     "execution_count": 14,
     "metadata": {},
     "output_type": "execute_result"
    }
   ],
   "source": [
    "crosstab"
   ]
  },
  {
   "cell_type": "markdown",
   "id": "ba22b902-9190-4016-987c-a1aa2c59146f",
   "metadata": {},
   "source": [
    "### This will be easier to visualise with a graph"
   ]
  },
  {
   "cell_type": "code",
   "execution_count": 15,
   "id": "1acd3494-3a70-4f6f-a799-b3a406ac675d",
   "metadata": {},
   "outputs": [
    {
     "data": {
      "image/png": "[encoded data removed]",
      "text/plain": [
       "<Figure size 640x480 with 1 Axes>"
      ]
     },
     "metadata": {},
     "output_type": "display_data"
    }
   ],
   "source": [
    "# create bar chart showing the difference in spending habits\n",
    "regional_spending_bar = crosstab.plot.bar(color = ['brown', 'orange'])"
   ]
  },
  {
   "cell_type": "markdown",
   "id": "43898b22-cd2e-435a-90e4-0d91fde1d686",
   "metadata": {},
   "source": [
    "### With the graph we see that with High Spenders, the North East is the weakest around 0.6 and the South is the strongest around 1.3. The west and Midwest are both around 0.8.\n",
    "### The Low spenders, are similar across all regions."
   ]
  },
  {
   "cell_type": "code",
   "execution_count": 16,
   "id": "0d9ba9dd-94cd-45f6-833f-96478ced56c9",
   "metadata": {},
   "outputs": [],
   "source": [
    "# export bar graph\n",
    "regional_spending_bar.figure.savefig(os.path.join(path, '04_analysis', 'visualisations', 'bar_regional_spending.png'))"
   ]
  },
  {
   "cell_type": "markdown",
   "id": "a4b8117d-7163-4ab2-b244-8445e2b711db",
   "metadata": {},
   "source": [
    "## 4.Exclusion of low-activity customer\n",
    "\n",
    "### The Instacart CFO isn’t interested in customers who don’t generate much revenue for the app. \n",
    "### Create an exclusion flag for low-activity customers (customers with less than 5 orders) and exclude them from the data"
   ]
  },
  {
   "cell_type": "code",
   "execution_count": 17,
   "id": "54b0958a-4bfa-4a73-9285-f01cad2c90ef",
   "metadata": {},
   "outputs": [],
   "source": [
    "# create function establishing low and high activity customers\n",
    "result = []\n",
    "\n",
    "for value in instacart_data['max_order']:\n",
    "    if value < 5:\n",
    "        result.append('low-activity customer')\n",
    "    else: \n",
    "        result.append('high-activity customer')"
   ]
  },
  {
   "cell_type": "code",
   "execution_count": 18,
   "id": "68ef9ac3-2202-46d4-9075-8761e7a95349",
   "metadata": {},
   "outputs": [],
   "source": [
    "#creating 'customer_activity' column\n",
    "instacart_data['activity_level'] = result"
   ]
  },
  {
   "cell_type": "code",
   "execution_count": 19,
   "id": "286be3fd-7e16-4928-9d3a-e6f9b5063f4b",
   "metadata": {},
   "outputs": [
    {
     "data": {
      "text/plain": [
       "activity_level\n",
       "high-activity customer    30964564\n",
       "low-activity customer      1440295\n",
       "Name: count, dtype: int64"
      ]
     },
     "execution_count": 19,
     "metadata": {},
     "output_type": "execute_result"
    }
   ],
   "source": [
    "instacart_data['activity_level'].value_counts()"
   ]
  },
  {
   "cell_type": "code",
   "execution_count": 20,
   "id": "ef48d97e-55d4-4b1a-974a-0c8b67037890",
   "metadata": {},
   "outputs": [],
   "source": [
    "#creating dataframe excluding low activity customers\n",
    "instacart_low_acti_cust_excluded = instacart_data[instacart_data['activity_level'] != 'low_activity_customer']"
   ]
  },
  {
   "cell_type": "code",
   "execution_count": 21,
   "id": "59142fd3-a1e9-4729-abf5-54bc276ea847",
   "metadata": {},
   "outputs": [],
   "source": [
    "# export dataframe\n",
    "instacart_low_acti_cust_excluded.to_pickle(os.path.join(path, '02_data', 'prepared_data', 'low_acti_excluded.pkl'))"
   ]
  },
  {
   "cell_type": "markdown",
   "id": "12d965ba-bc41-49ca-9bc3-105c29996518",
   "metadata": {},
   "source": [
    "## 5.Customer Profiling\n",
    "\n",
    "### The marketing and business strategy units at Instacart want to create more-relevant marketing strategies for different products and are, thus, curious about customer profiling in their database. Create a profiling variable based on age, income, certain goods in the “department_id” column, and number of dependents."
   ]
  },
  {
   "cell_type": "code",
   "execution_count": 22,
   "id": "fc724b7f-20aa-4f19-808b-5326641a9d39",
   "metadata": {},
   "outputs": [
    {
     "data": {
      "text/html": [
       "<div>\n",
       "<style scoped>\n",
       "    .dataframe tbody tr th:only-of-type {\n",
       "        vertical-align: middle;\n",
       "    }\n",
       "\n",
       "    .dataframe tbody tr th {\n",
       "        vertical-align: top;\n",
       "    }\n",
       "\n",
       "    .dataframe thead th {\n",
       "        text-align: right;\n",
       "    }\n",
       "</style>\n",
       "<table border=\"1\" class=\"dataframe\">\n",
       "  <thead>\n",
       "    <tr style=\"text-align: right;\">\n",
       "      <th></th>\n",
       "      <th>age</th>\n",
       "      <th>n_dependants</th>\n",
       "      <th>income</th>\n",
       "    </tr>\n",
       "  </thead>\n",
       "  <tbody>\n",
       "    <tr>\n",
       "      <th>count</th>\n",
       "      <td>3.240486e+07</td>\n",
       "      <td>3.240486e+07</td>\n",
       "      <td>3.240486e+07</td>\n",
       "    </tr>\n",
       "    <tr>\n",
       "      <th>mean</th>\n",
       "      <td>4.946527e+01</td>\n",
       "      <td>1.501896e+00</td>\n",
       "      <td>9.943773e+04</td>\n",
       "    </tr>\n",
       "    <tr>\n",
       "      <th>std</th>\n",
       "      <td>1.848558e+01</td>\n",
       "      <td>1.118865e+00</td>\n",
       "      <td>4.305727e+04</td>\n",
       "    </tr>\n",
       "    <tr>\n",
       "      <th>min</th>\n",
       "      <td>1.800000e+01</td>\n",
       "      <td>0.000000e+00</td>\n",
       "      <td>2.590300e+04</td>\n",
       "    </tr>\n",
       "    <tr>\n",
       "      <th>25%</th>\n",
       "      <td>3.300000e+01</td>\n",
       "      <td>1.000000e+00</td>\n",
       "      <td>6.700400e+04</td>\n",
       "    </tr>\n",
       "    <tr>\n",
       "      <th>50%</th>\n",
       "      <td>4.900000e+01</td>\n",
       "      <td>2.000000e+00</td>\n",
       "      <td>9.661800e+04</td>\n",
       "    </tr>\n",
       "    <tr>\n",
       "      <th>75%</th>\n",
       "      <td>6.500000e+01</td>\n",
       "      <td>3.000000e+00</td>\n",
       "      <td>1.279120e+05</td>\n",
       "    </tr>\n",
       "    <tr>\n",
       "      <th>max</th>\n",
       "      <td>8.100000e+01</td>\n",
       "      <td>3.000000e+00</td>\n",
       "      <td>5.939010e+05</td>\n",
       "    </tr>\n",
       "  </tbody>\n",
       "</table>\n",
       "</div>"
      ],
      "text/plain": [
       "                age  n_dependants        income\n",
       "count  3.240486e+07  3.240486e+07  3.240486e+07\n",
       "mean   4.946527e+01  1.501896e+00  9.943773e+04\n",
       "std    1.848558e+01  1.118865e+00  4.305727e+04\n",
       "min    1.800000e+01  0.000000e+00  2.590300e+04\n",
       "25%    3.300000e+01  1.000000e+00  6.700400e+04\n",
       "50%    4.900000e+01  2.000000e+00  9.661800e+04\n",
       "75%    6.500000e+01  3.000000e+00  1.279120e+05\n",
       "max    8.100000e+01  3.000000e+00  5.939010e+05"
      ]
     },
     "execution_count": 22,
     "metadata": {},
     "output_type": "execute_result"
    }
   ],
   "source": [
    "# Checking Descriptive statistics on relevant columns\n",
    "instacart_low_acti_cust_excluded[['age', 'n_dependants', 'income']].describe()"
   ]
  },
  {
   "cell_type": "markdown",
   "id": "599ab102-e131-4082-bf3b-b6cd39164751",
   "metadata": {},
   "source": [
    "### The first step is to create age brackets, splitting customers into distinct categories to make analysis easier"
   ]
  },
  {
   "cell_type": "code",
   "execution_count": 23,
   "id": "97f81d21-ad9a-4a9f-9f59-a1b3293fe796",
   "metadata": {},
   "outputs": [],
   "source": [
    "# 'Young Adult' age group\n",
    "instacart_low_acti_cust_excluded.loc[instacart_low_acti_cust_excluded['age']<=25,'age_group']='Young Adult'"
   ]
  },
  {
   "cell_type": "code",
   "execution_count": 24,
   "id": "73433699-fd0c-44ed-b7c6-6d65a107ec03",
   "metadata": {},
   "outputs": [],
   "source": [
    "# 'Adult' age group\n",
    "instacart_low_acti_cust_excluded.loc[(instacart_low_acti_cust_excluded['age']>=26) & (instacart_low_acti_cust_excluded['age']<=44),'age_group']='Adult'"
   ]
  },
  {
   "cell_type": "code",
   "execution_count": 25,
   "id": "b1b5d979-40ad-43ef-81b1-be160162534a",
   "metadata": {},
   "outputs": [],
   "source": [
    "# creating 'Middle-Aged' age group\n",
    "instacart_low_acti_cust_excluded.loc[(instacart_low_acti_cust_excluded['age']>=45) & (instacart_low_acti_cust_excluded['age']<=64),'age_group']='Middle-Aged'"
   ]
  },
  {
   "cell_type": "code",
   "execution_count": 26,
   "id": "15335f43-380b-45a2-b7dd-31b42b0ef113",
   "metadata": {},
   "outputs": [],
   "source": [
    "# creating 'Senior' age group\n",
    "instacart_low_acti_cust_excluded.loc[instacart_low_acti_cust_excluded['age']>=65,'age_group']='Senior'"
   ]
  },
  {
   "cell_type": "code",
   "execution_count": 27,
   "id": "e4f43e6a-3382-4f4a-aaae-755eebc491b2",
   "metadata": {},
   "outputs": [
    {
     "data": {
      "text/plain": [
       "age_group\n",
       "Middle-Aged    10139691\n",
       "Adult           9644895\n",
       "Senior          8575084\n",
       "Young Adult     4045189\n",
       "Name: count, dtype: int64"
      ]
     },
     "execution_count": 27,
     "metadata": {},
     "output_type": "execute_result"
    }
   ],
   "source": [
    "instacart_low_acti_cust_excluded['age_group'].value_counts()"
   ]
  },
  {
   "cell_type": "markdown",
   "id": "b58a4924-db01-46ab-80c9-2adbd1c9bae5",
   "metadata": {},
   "source": [
    "### Here we see that there are significantly fewer younger people using instacart than older adults."
   ]
  },
  {
   "cell_type": "code",
   "execution_count": 28,
   "id": "da7ef264-d729-45b7-98f2-09d00ee85f19",
   "metadata": {},
   "outputs": [],
   "source": [
    "age_category_values = instacart_low_acti_cust_excluded['age_group'].value_counts()"
   ]
  },
  {
   "cell_type": "code",
   "execution_count": 1,
   "id": "e43a3938-0535-46df-9421-198a16c48273",
   "metadata": {},
   "outputs": [
    {
     "ename": "NameError",
     "evalue": "name 'age_category_values' is not defined",
     "output_type": "error",
     "traceback": [
      "\u001b[1;31m---------------------------------------------------------------------------\u001b[0m",
      "\u001b[1;31mNameError\u001b[0m                                 Traceback (most recent call last)",
      "Cell \u001b[1;32mIn[1], line 1\u001b[0m\n\u001b[1;32m----> 1\u001b[0m age_group_bar \u001b[38;5;241m=\u001b[39m age_category_values\u001b[38;5;241m.\u001b[39mplot\u001b[38;5;241m.\u001b[39mbar(color \u001b[38;5;241m=\u001b[39m [\u001b[38;5;124m'\u001b[39m\u001b[38;5;124mred\u001b[39m\u001b[38;5;124m'\u001b[39m, \u001b[38;5;124m'\u001b[39m\u001b[38;5;124morange\u001b[39m\u001b[38;5;124m'\u001b[39m, \u001b[38;5;124m'\u001b[39m\u001b[38;5;124mgreen\u001b[39m\u001b[38;5;124m'\u001b[39m, \u001b[38;5;124m'\u001b[39m\u001b[38;5;124mblue\u001b[39m\u001b[38;5;124m'\u001b[39m])\n\u001b[0;32m      2\u001b[0m plt\u001b[38;5;241m.\u001b[39mtight_layout()\n",
      "\u001b[1;31mNameError\u001b[0m: name 'age_category_values' is not defined"
     ]
    }
   ],
   "source": [
    "age_group_bar = age_category_values.plot.bar(color = ['red', 'orange', 'green', 'blue'])\n",
    "plt.tight_layout()"
   ]
  },
  {
   "cell_type": "code",
   "execution_count": 30,
   "id": "63731844-791a-4d27-8798-960aeffd0ba0",
   "metadata": {},
   "outputs": [],
   "source": [
    "# export bar graph\n",
    "age_group_bar.figure.savefig(os.path.join(path, '04_analysis', 'visualisations', 'bar_age_category.png'))"
   ]
  },
  {
   "cell_type": "code",
   "execution_count": 31,
   "id": "8340682d-df42-419e-8a30-ad028a72d66d",
   "metadata": {},
   "outputs": [
    {
     "data": {
      "image/png": "[encoded data removed]",
      "text/plain": [
       "<Figure size 600x400 with 1 Axes>"
      ]
     },
     "metadata": {},
     "output_type": "display_data"
    }
   ],
   "source": [
    "# Plot the pie chart\n",
    "age_category_values.plot(figsize=(6, 4))\n",
    "age_group_pie_chart =age_category_values.plot.pie(\n",
    "    labels=['Middle-Aged: 45 to 64 years', 'Adults: 26 to 44 years','Seniors: 65 years +','Young adults: 18 to 25 years'],\n",
    "    autopct='%.1f%%',\n",
    "    wedgeprops={'edgecolor': 'black'})\n",
    "plt.title('Distribution of Customer Age')\n",
    "plt.ylabel('')\n",
    "plt.xlabel('')\n",
    "plt.tight_layout()\n",
    "plt.show()"
   ]
  },
  {
   "cell_type": "code",
   "execution_count": 32,
   "id": "b973011a-e34b-4844-a90a-3c292f080845",
   "metadata": {},
   "outputs": [],
   "source": [
    "age_group_pie_chart.figure.savefig(os.path.join(path, '04_analysis', 'visualisations', 'pie_age_category.png'))"
   ]
  },
  {
   "cell_type": "markdown",
   "id": "80d2d566-5720-4c25-b0fd-d9b3f65659b1",
   "metadata": {},
   "source": [
    "### Customer Income Profiling"
   ]
  },
  {
   "cell_type": "code",
   "execution_count": 33,
   "id": "1a08795c-a554-4dad-a47e-29180c893241",
   "metadata": {},
   "outputs": [
    {
     "data": {
      "text/plain": [
       "count    3.240486e+07\n",
       "mean     9.943773e+04\n",
       "std      4.305727e+04\n",
       "min      2.590300e+04\n",
       "25%      6.700400e+04\n",
       "50%      9.661800e+04\n",
       "75%      1.279120e+05\n",
       "max      5.939010e+05\n",
       "Name: income, dtype: float64"
      ]
     },
     "execution_count": 33,
     "metadata": {},
     "output_type": "execute_result"
    }
   ],
   "source": [
    "instacart_low_acti_cust_excluded['income'].describe()"
   ]
  },
  {
   "cell_type": "markdown",
   "id": "aa3d00d3-7a89-42ec-90ce-32152243db28",
   "metadata": {},
   "source": [
    "### Customer Income categories will be created to ease analysis"
   ]
  },
  {
   "cell_type": "code",
   "execution_count": 34,
   "id": "2ff45582-2384-413e-95a6-f7dc09032cdb",
   "metadata": {},
   "outputs": [],
   "source": [
    "#'low income' category\n",
    "instacart_low_acti_cust_excluded.loc[instacart_low_acti_cust_excluded['income']<=67000,'income_group']='Low Income'"
   ]
  },
  {
   "cell_type": "code",
   "execution_count": 35,
   "id": "04f7a2ed-6638-46fc-b8b8-b0ac196c2ba9",
   "metadata": {},
   "outputs": [],
   "source": [
    "#'middle income' group\n",
    "instacart_low_acti_cust_excluded.loc[(instacart_low_acti_cust_excluded['income']>67000) & (instacart_low_acti_cust_excluded['income']<=127000),'income_group']='Middle Income'"
   ]
  },
  {
   "cell_type": "code",
   "execution_count": 36,
   "id": "b1ba622c-e70d-4e3b-b82e-142254527fcf",
   "metadata": {},
   "outputs": [],
   "source": [
    "#'Upper income' category\n",
    "instacart_low_acti_cust_excluded.loc[instacart_low_acti_cust_excluded['income']>127000,'income_group']= 'High Income'"
   ]
  },
  {
   "cell_type": "code",
   "execution_count": 37,
   "id": "f7b55db9-83be-4d63-98ee-031a91c0fe74",
   "metadata": {},
   "outputs": [
    {
     "data": {
      "text/plain": [
       "income_group\n",
       "Middle Income    16035151\n",
       "High Income       8268909\n",
       "Low Income        8100799\n",
       "Name: count, dtype: int64"
      ]
     },
     "execution_count": 37,
     "metadata": {},
     "output_type": "execute_result"
    }
   ],
   "source": [
    "instacart_low_acti_cust_excluded['income_group'].value_counts()"
   ]
  },
  {
   "cell_type": "code",
   "execution_count": 38,
   "id": "c23fce8e-dfbc-42cc-a50b-866a8776c45d",
   "metadata": {},
   "outputs": [],
   "source": [
    "#creating a pie chart of Income group\n",
    "income_group_categories = instacart_low_acti_cust_excluded['income_group'].value_counts()"
   ]
  },
  {
   "cell_type": "code",
   "execution_count": 39,
   "id": "7a343733-469a-4881-a621-18f758100643",
   "metadata": {},
   "outputs": [
    {
     "data": {
      "image/png": "[encoded data removed]",
      "text/plain": [
       "<Figure size 600x400 with 1 Axes>"
      ]
     },
     "metadata": {},
     "output_type": "display_data"
    }
   ],
   "source": [
    "income_group_categories.plot(figsize=(6, 4))\n",
    "income_category_pie =income_group_categories.plot.pie(\n",
    "    labels=['Middle Income', 'High Income','Low Income'],\n",
    "    autopct='%.1f%%',\n",
    "    wedgeprops={'edgecolor': 'black'})\n",
    "plt.title('Distribution of Customer Income')\n",
    "plt.ylabel('')\n",
    "plt.xlabel('')\n",
    "plt.tight_layout()\n",
    "plt.show()"
   ]
  },
  {
   "cell_type": "code",
   "execution_count": 40,
   "id": "ca6147bb-5c09-4cde-b5e3-83aa057d4f9f",
   "metadata": {},
   "outputs": [],
   "source": [
    "income_category_pie.figure.savefig(os.path.join(path, '04_analysis', 'visualisations', 'pie_income_category.png'))"
   ]
  },
  {
   "cell_type": "markdown",
   "id": "ead7d794-263e-433f-972d-b9f35b4dfe2b",
   "metadata": {},
   "source": [
    "### The Pie Chart shows clearly the distribution of customer incomes. Almost 50% of all customers fall in the middle income bracket. While high and low income customers are almost equal. Middle income customers should definatly recieve a significant amount of marketing attention."
   ]
  },
  {
   "cell_type": "markdown",
   "id": "ef203f63-8f1c-4c04-bcb2-4e1d56cdb04c",
   "metadata": {},
   "source": [
    "## Customer dependents Profiling"
   ]
  },
  {
   "cell_type": "code",
   "execution_count": 41,
   "id": "fa8792f0-ddb0-4729-a816-b5fa85678a27",
   "metadata": {},
   "outputs": [
    {
     "data": {
      "text/plain": [
       "count    3.240486e+07\n",
       "mean     1.501896e+00\n",
       "std      1.118865e+00\n",
       "min      0.000000e+00\n",
       "25%      1.000000e+00\n",
       "50%      2.000000e+00\n",
       "75%      3.000000e+00\n",
       "max      3.000000e+00\n",
       "Name: n_dependants, dtype: float64"
      ]
     },
     "execution_count": 41,
     "metadata": {},
     "output_type": "execute_result"
    }
   ],
   "source": [
    "instacart_low_acti_cust_excluded['n_dependants'].describe()"
   ]
  },
  {
   "cell_type": "markdown",
   "id": "114459b3-2526-4ddd-bbb2-abb31f1af743",
   "metadata": {},
   "source": [
    "### As all customers have between 0 and 3 dependants,we will categorise customers into four groups to ease analysis"
   ]
  },
  {
   "cell_type": "code",
   "execution_count": 42,
   "id": "23c54f9a-525c-4b6f-b343-c27d46b3fae6",
   "metadata": {},
   "outputs": [],
   "source": [
    "# creating 'no dependents' group\n",
    "instacart_low_acti_cust_excluded.loc[instacart_low_acti_cust_excluded['n_dependants']==0,'dependants_category']='No Dependants'"
   ]
  },
  {
   "cell_type": "code",
   "execution_count": 43,
   "id": "7c85b09e-ec8f-409f-9784-0af82738d765",
   "metadata": {},
   "outputs": [],
   "source": [
    "# creating 'one dependent' group\n",
    "instacart_low_acti_cust_excluded.loc[instacart_low_acti_cust_excluded['n_dependants']==1,'dependants_category']='One Dependant'"
   ]
  },
  {
   "cell_type": "code",
   "execution_count": 44,
   "id": "d7f76f45-4949-4579-99ae-921493d122f8",
   "metadata": {},
   "outputs": [],
   "source": [
    "# creating 'Two dependents' group\n",
    "instacart_low_acti_cust_excluded.loc[instacart_low_acti_cust_excluded['n_dependants']==2,'dependants_category']='Two Dependants'"
   ]
  },
  {
   "cell_type": "code",
   "execution_count": 45,
   "id": "fa6c4a59-1bf1-440f-90f7-9fa215e68d8b",
   "metadata": {},
   "outputs": [],
   "source": [
    "# creating 'Three dependents' group\n",
    "instacart_low_acti_cust_excluded.loc[instacart_low_acti_cust_excluded['n_dependants']==3,'dependants_category']='Three Dependants'"
   ]
  },
  {
   "cell_type": "code",
   "execution_count": 46,
   "id": "f2c1ac9e-8354-41cc-bdfa-bc6b3d37ad20",
   "metadata": {},
   "outputs": [
    {
     "data": {
      "text/plain": [
       "dependants_category\n",
       "Three Dependants    8135109\n",
       "No Dependants       8097503\n",
       "Two Dependants      8091143\n",
       "One Dependant       8081104\n",
       "Name: count, dtype: int64"
      ]
     },
     "execution_count": 46,
     "metadata": {},
     "output_type": "execute_result"
    }
   ],
   "source": [
    "instacart_low_acti_cust_excluded['dependants_category'].value_counts()"
   ]
  },
  {
   "cell_type": "code",
   "execution_count": 47,
   "id": "7f86b8c1-3af0-4259-ac73-802f2aa7ff0d",
   "metadata": {},
   "outputs": [],
   "source": [
    "#Create Bar chart\n",
    "dependants_distribution = instacart_low_acti_cust_excluded['dependants_category'].value_counts()"
   ]
  },
  {
   "cell_type": "code",
   "execution_count": 48,
   "id": "a4b6973d-723c-4cc3-aa3e-962c0f52e545",
   "metadata": {},
   "outputs": [
    {
     "data": {
      "image/png": "[encoded data removed]",
      "text/plain": [
       "<Figure size 400x600 with 1 Axes>"
      ]
     },
     "metadata": {},
     "output_type": "display_data"
    }
   ],
   "source": [
    "plt.figure(figsize=(4,6))\n",
    "dependant_category_bar = dependants_distribution.plot.bar(color= ['red', 'yellow', 'green', 'blue'],edgecolor='black', rot=0)\n",
    "plt.title('Distribution of Customer Dependents')\n",
    "plt.xlabel('')\n",
    "plt.ylabel('')\n",
    "plt.tight_layout()\n",
    "plt.show()"
   ]
  },
  {
   "cell_type": "code",
   "execution_count": 49,
   "id": "d2ca1474-251f-43ba-a810-45a7b8f16306",
   "metadata": {},
   "outputs": [],
   "source": [
    "dependant_category_bar.figure.savefig(os.path.join(path, '04_analysis', 'visualisations', 'bar_dependant_category.png'))"
   ]
  },
  {
   "cell_type": "markdown",
   "id": "b72bda96-a612-4cd3-b3df-01c4465baa3b",
   "metadata": {},
   "source": [
    "### The distribution of the dependants across the four categories are almost equal. There are a slight majority who have 3 dependants and customers with 1 dependant are in the minority."
   ]
  },
  {
   "cell_type": "markdown",
   "id": "2973bdac-471a-4aca-9954-fad70340578f",
   "metadata": {},
   "source": [
    "## 'order_day_of_week' profiling"
   ]
  },
  {
   "cell_type": "code",
   "execution_count": 50,
   "id": "ebc9e20e-ba78-4aca-8fe3-179aa67667fa",
   "metadata": {},
   "outputs": [
    {
     "data": {
      "text/plain": [
       "count    3.240486e+07\n",
       "mean     2.738867e+00\n",
       "std      2.090077e+00\n",
       "min      0.000000e+00\n",
       "25%      1.000000e+00\n",
       "50%      3.000000e+00\n",
       "75%      5.000000e+00\n",
       "max      6.000000e+00\n",
       "Name: order_day_of_week, dtype: float64"
      ]
     },
     "execution_count": 50,
     "metadata": {},
     "output_type": "execute_result"
    }
   ],
   "source": [
    "instacart_low_acti_cust_excluded['order_day_of_week'].describe()"
   ]
  },
  {
   "cell_type": "code",
   "execution_count": 51,
   "id": "5e22b79a-df1a-45f5-9bef-8c179d170917",
   "metadata": {},
   "outputs": [],
   "source": [
    "# For reading ease I will change the numbers representing days of the week to words\n",
    "days_of_week = {0:'Saturday', 1:'Sunday', 2:'Monday', 3:'Tuesday', 4:'Wednesday', 5:'Thursday', 6:'Friday'}"
   ]
  },
  {
   "cell_type": "code",
   "execution_count": 52,
   "id": "e276b05e-293a-472a-a92e-38a9700cf2c5",
   "metadata": {},
   "outputs": [],
   "source": [
    "ords_dow = instacart_low_acti_cust_excluded['order_day_of_week'].value_counts()"
   ]
  },
  {
   "cell_type": "code",
   "execution_count": 53,
   "id": "8674f827-4f2b-4a5c-a393-9f485f6b933e",
   "metadata": {},
   "outputs": [
    {
     "data": {
      "image/png": "[encoded data removed]",
      "text/plain": [
       "<Figure size 800x800 with 1 Axes>"
      ]
     },
     "metadata": {},
     "output_type": "display_data"
    }
   ],
   "source": [
    "plt.figure(figsize=(8, 8))\n",
    "orders_distribution_bar = ords_dow.sort_index().plot.bar(color = ['red','orange','yellow','green','blue','indigo','violet'],edgecolor='black', rot=0)\n",
    "plt.title('Distribution of Orders by Week')\n",
    "plt.xlabel('')\n",
    "plt.ylabel('Count')\n",
    "plt.xticks(ticks=range(7), labels=[days_of_week[i] for i in range(7)])\n",
    "plt.tight_layout()\n",
    "plt.show()"
   ]
  },
  {
   "cell_type": "code",
   "execution_count": 54,
   "id": "bf29679f-c177-49ef-ad60-28ce74b5fff1",
   "metadata": {},
   "outputs": [],
   "source": [
    "orders_distribution_bar.figure.savefig(os.path.join(path, '04_analysis', 'visualisations', 'bar_dow_order_distribution.png'))"
   ]
  },
  {
   "cell_type": "markdown",
   "id": "00d739f1-de6e-4f9f-a0ef-cb9141b1de64",
   "metadata": {},
   "source": [
    "## profiling of hour of day"
   ]
  },
  {
   "cell_type": "code",
   "execution_count": 55,
   "id": "c0fc1460-ed4b-4019-a621-2d79583ca966",
   "metadata": {},
   "outputs": [
    {
     "data": {
      "image/png": "[encoded data removed]",
      "text/plain": [
       "<Figure size 600x400 with 1 Axes>"
      ]
     },
     "metadata": {},
     "output_type": "display_data"
    }
   ],
   "source": [
    "plt.figure(figsize=(6, 4))\n",
    "histo_orders_by_hour = instacart_low_acti_cust_excluded['time_of_order'].plot.hist(bins=24, edgecolor='black')\n",
    "plt.title('Distribution of Orders by Hour')\n",
    "plt.xlabel('')\n",
    "plt.ylabel('Frequency')\n",
    "plt.xticks(range(0, 24))\n",
    "plt.tight_layout()\n",
    "plt.show()"
   ]
  },
  {
   "cell_type": "code",
   "execution_count": 56,
   "id": "77b9dde0-9a5f-427c-a6e1-bf4ce6108c74",
   "metadata": {},
   "outputs": [],
   "source": [
    "histo_orders_by_hour.figure.savefig(os.path.join(path, '04_analysis', 'visualisations', 'histo_orders_by_hour.png'))"
   ]
  },
  {
   "cell_type": "markdown",
   "id": "2f863d84-1f27-4a5e-958b-40d336d7258f",
   "metadata": {},
   "source": [
    "## Profiling based on marriage status"
   ]
  },
  {
   "cell_type": "code",
   "execution_count": 57,
   "id": "4bba3910-1b76-49bc-99df-c7358fb552fa",
   "metadata": {},
   "outputs": [
    {
     "data": {
      "text/plain": [
       "fam_status\n",
       "married                             22756753\n",
       "single                               5325691\n",
       "divorced/widowed                     2771812\n",
       "living with parents and siblings     1550603\n",
       "Name: count, dtype: int64"
      ]
     },
     "execution_count": 57,
     "metadata": {},
     "output_type": "execute_result"
    }
   ],
   "source": [
    "instacart_low_acti_cust_excluded['fam_status'].value_counts()"
   ]
  },
  {
   "cell_type": "code",
   "execution_count": 58,
   "id": "cb717a5d-ab86-4ae7-97a0-5e426940c95d",
   "metadata": {},
   "outputs": [],
   "source": [
    "mar_status = instacart_low_acti_cust_excluded['fam_status'].value_counts()"
   ]
  },
  {
   "cell_type": "code",
   "execution_count": 59,
   "id": "b9df9d03-d40b-4022-a4e3-e37a8eead43f",
   "metadata": {},
   "outputs": [
    {
     "data": {
      "image/png": "[encoded data removed]",
      "text/plain": [
       "<Figure size 900x700 with 1 Axes>"
      ]
     },
     "metadata": {},
     "output_type": "display_data"
    }
   ],
   "source": [
    "plt.figure(figsize=(9, 7))\n",
    "fam_status_distrib_bar = mar_status.plot.bar(color = ['red','orange','yellow','green'],edgecolor='black', rot=0)\n",
    "plt.title('Distribution of Family Status')\n",
    "plt.xlabel('')\n",
    "plt.ylabel('Count')\n",
    "plt.tight_layout()\n",
    "plt.show()"
   ]
  },
  {
   "cell_type": "code",
   "execution_count": 60,
   "id": "d4e78e18-5992-4523-a5e0-56929ce2cc2f",
   "metadata": {},
   "outputs": [],
   "source": [
    "fam_status_distrib_bar.figure.savefig(os.path.join(path, '04_analysis', 'visualisations', 'bar_fam_status_distribution.png'))"
   ]
  },
  {
   "cell_type": "markdown",
   "id": "6c481b22-755a-4bf9-9e9f-51731642b6bd",
   "metadata": {},
   "source": [
    "### The majority of customers are married. A Pie chart would also be appropriate for this data"
   ]
  },
  {
   "cell_type": "code",
   "execution_count": 61,
   "id": "01ddd14a-00ea-45af-a80d-aa9b88818302",
   "metadata": {},
   "outputs": [
    {
     "data": {
      "image/png": "[encoded data removed]",
      "text/plain": [
       "<Figure size 600x400 with 1 Axes>"
      ]
     },
     "metadata": {},
     "output_type": "display_data"
    }
   ],
   "source": [
    "mar_status.plot(figsize=(6, 4))\n",
    "family_status_pie = mar_status.plot.pie(\n",
    "    labels=['Married', 'Single','Divorced/Widowed','Living with Parents and Siblings'],\n",
    "    autopct='%.1f%%',\n",
    "    wedgeprops={'edgecolor': 'black'})\n",
    "plt.title('Distribution of Family Status')\n",
    "plt.ylabel('')\n",
    "plt.xlabel('')\n",
    "plt.tight_layout()\n",
    "plt.show()"
   ]
  },
  {
   "cell_type": "code",
   "execution_count": 62,
   "id": "b35817c7-7f95-40e1-b153-158b0e0af213",
   "metadata": {},
   "outputs": [],
   "source": [
    "family_status_pie.figure.savefig(os.path.join(path, '04_analysis', 'visualisations', 'pie_fam_status_distribution.png'))"
   ]
  },
  {
   "cell_type": "markdown",
   "id": "bea172dc-8d8d-46ce-a5f3-c9aceab2f112",
   "metadata": {},
   "source": [
    "## Profiling based on Instacart Product Departments"
   ]
  },
  {
   "cell_type": "code",
   "execution_count": 63,
   "id": "c3095f6f-bd4f-4aba-b7fc-e71bcca78abb",
   "metadata": {},
   "outputs": [],
   "source": [
    "# Department names are not in this Dataframe. I will have to import them and do another merge. As this was frustrating me using the original CSV, I adjusted the data to make importing easier.\n",
    "df_deps = pd.read_csv(os.path.join(path, '02_data', 'original_data', 'departments_new.csv'), index_col = False)"
   ]
  },
  {
   "cell_type": "code",
   "execution_count": 64,
   "id": "02c9a60d-2d4f-46a5-bbff-4a0fae8db85c",
   "metadata": {},
   "outputs": [
    {
     "data": {
      "text/html": [
       "<div>\n",
       "<style scoped>\n",
       "    .dataframe tbody tr th:only-of-type {\n",
       "        vertical-align: middle;\n",
       "    }\n",
       "\n",
       "    .dataframe tbody tr th {\n",
       "        vertical-align: top;\n",
       "    }\n",
       "\n",
       "    .dataframe thead th {\n",
       "        text-align: right;\n",
       "    }\n",
       "</style>\n",
       "<table border=\"1\" class=\"dataframe\">\n",
       "  <thead>\n",
       "    <tr style=\"text-align: right;\">\n",
       "      <th></th>\n",
       "      <th>department_id</th>\n",
       "      <th>department</th>\n",
       "    </tr>\n",
       "  </thead>\n",
       "  <tbody>\n",
       "    <tr>\n",
       "      <th>0</th>\n",
       "      <td>1</td>\n",
       "      <td>frozen</td>\n",
       "    </tr>\n",
       "    <tr>\n",
       "      <th>1</th>\n",
       "      <td>2</td>\n",
       "      <td>other</td>\n",
       "    </tr>\n",
       "    <tr>\n",
       "      <th>2</th>\n",
       "      <td>3</td>\n",
       "      <td>bakery</td>\n",
       "    </tr>\n",
       "    <tr>\n",
       "      <th>3</th>\n",
       "      <td>4</td>\n",
       "      <td>produce</td>\n",
       "    </tr>\n",
       "    <tr>\n",
       "      <th>4</th>\n",
       "      <td>5</td>\n",
       "      <td>alcohol</td>\n",
       "    </tr>\n",
       "    <tr>\n",
       "      <th>5</th>\n",
       "      <td>6</td>\n",
       "      <td>international</td>\n",
       "    </tr>\n",
       "    <tr>\n",
       "      <th>6</th>\n",
       "      <td>7</td>\n",
       "      <td>beverages</td>\n",
       "    </tr>\n",
       "    <tr>\n",
       "      <th>7</th>\n",
       "      <td>8</td>\n",
       "      <td>pets</td>\n",
       "    </tr>\n",
       "    <tr>\n",
       "      <th>8</th>\n",
       "      <td>9</td>\n",
       "      <td>dry goods pasta</td>\n",
       "    </tr>\n",
       "    <tr>\n",
       "      <th>9</th>\n",
       "      <td>10</td>\n",
       "      <td>bulk</td>\n",
       "    </tr>\n",
       "    <tr>\n",
       "      <th>10</th>\n",
       "      <td>11</td>\n",
       "      <td>personal care</td>\n",
       "    </tr>\n",
       "    <tr>\n",
       "      <th>11</th>\n",
       "      <td>12</td>\n",
       "      <td>meat seafood</td>\n",
       "    </tr>\n",
       "    <tr>\n",
       "      <th>12</th>\n",
       "      <td>13</td>\n",
       "      <td>pantry</td>\n",
       "    </tr>\n",
       "    <tr>\n",
       "      <th>13</th>\n",
       "      <td>14</td>\n",
       "      <td>breakfast</td>\n",
       "    </tr>\n",
       "    <tr>\n",
       "      <th>14</th>\n",
       "      <td>15</td>\n",
       "      <td>canned goods</td>\n",
       "    </tr>\n",
       "    <tr>\n",
       "      <th>15</th>\n",
       "      <td>16</td>\n",
       "      <td>dairy eggs</td>\n",
       "    </tr>\n",
       "    <tr>\n",
       "      <th>16</th>\n",
       "      <td>17</td>\n",
       "      <td>household</td>\n",
       "    </tr>\n",
       "    <tr>\n",
       "      <th>17</th>\n",
       "      <td>18</td>\n",
       "      <td>babies</td>\n",
       "    </tr>\n",
       "    <tr>\n",
       "      <th>18</th>\n",
       "      <td>19</td>\n",
       "      <td>snacks</td>\n",
       "    </tr>\n",
       "    <tr>\n",
       "      <th>19</th>\n",
       "      <td>20</td>\n",
       "      <td>deli</td>\n",
       "    </tr>\n",
       "    <tr>\n",
       "      <th>20</th>\n",
       "      <td>21</td>\n",
       "      <td>missing</td>\n",
       "    </tr>\n",
       "  </tbody>\n",
       "</table>\n",
       "</div>"
      ],
      "text/plain": [
       "    department_id       department\n",
       "0               1           frozen\n",
       "1               2            other\n",
       "2               3           bakery\n",
       "3               4          produce\n",
       "4               5          alcohol\n",
       "5               6    international\n",
       "6               7        beverages\n",
       "7               8             pets\n",
       "8               9  dry goods pasta\n",
       "9              10             bulk\n",
       "10             11    personal care\n",
       "11             12     meat seafood\n",
       "12             13           pantry\n",
       "13             14        breakfast\n",
       "14             15     canned goods\n",
       "15             16       dairy eggs\n",
       "16             17        household\n",
       "17             18           babies\n",
       "18             19           snacks\n",
       "19             20             deli\n",
       "20             21          missing"
      ]
     },
     "execution_count": 64,
     "metadata": {},
     "output_type": "execute_result"
    }
   ],
   "source": [
    "df_deps"
   ]
  },
  {
   "cell_type": "code",
   "execution_count": 67,
   "id": "d46fd012-e283-4b0a-9737-ca7c6d008512",
   "metadata": {},
   "outputs": [
    {
     "data": {
      "text/plain": [
       "{1: 'frozen',\n",
       " 2: 'other',\n",
       " 3: 'bakery',\n",
       " 4: 'produce',\n",
       " 5: 'alcohol',\n",
       " 6: 'international',\n",
       " 7: 'beverages',\n",
       " 8: 'pets',\n",
       " 9: 'dry goods pasta',\n",
       " 10: 'bulk',\n",
       " 11: 'personal care',\n",
       " 12: 'meat seafood',\n",
       " 13: 'pantry',\n",
       " 14: 'breakfast',\n",
       " 15: 'canned goods',\n",
       " 16: 'dairy eggs',\n",
       " 17: 'household',\n",
       " 18: 'babies',\n",
       " 19: 'snacks',\n",
       " 20: 'deli',\n",
       " 21: 'missing'}"
      ]
     },
     "execution_count": 67,
     "metadata": {},
     "output_type": "execute_result"
    }
   ],
   "source": [
    "# Turning department dataframe into data dictionary\n",
    "zipped = zip (df_deps['department_id'], df_deps['department'])\n",
    "data_dict = dict(zipped)\n",
    "data_dict"
   ]
  },
  {
   "cell_type": "code",
   "execution_count": 68,
   "id": "81752421-292b-41af-b0d8-5b32747cd347",
   "metadata": {},
   "outputs": [],
   "source": [
    "# Connect department names to department_id in dataframe\n",
    "\n",
    "instacart_low_acti_cust_excluded.loc[:, 'department'] = instacart_low_acti_cust_excluded['department_id'].map(data_dict)"
   ]
  },
  {
   "cell_type": "code",
   "execution_count": 70,
   "id": "e724e40b-e84c-410d-87aa-36d227cdabd7",
   "metadata": {},
   "outputs": [
    {
     "data": {
      "text/html": [
       "<div>\n",
       "<style scoped>\n",
       "    .dataframe tbody tr th:only-of-type {\n",
       "        vertical-align: middle;\n",
       "    }\n",
       "\n",
       "    .dataframe tbody tr th {\n",
       "        vertical-align: top;\n",
       "    }\n",
       "\n",
       "    .dataframe thead th {\n",
       "        text-align: right;\n",
       "    }\n",
       "</style>\n",
       "<table border=\"1\" class=\"dataframe\">\n",
       "  <thead>\n",
       "    <tr style=\"text-align: right;\">\n",
       "      <th></th>\n",
       "      <th>product_id</th>\n",
       "      <th>product_name</th>\n",
       "      <th>aisle_id</th>\n",
       "      <th>department_id</th>\n",
       "      <th>prices</th>\n",
       "      <th>order_id</th>\n",
       "      <th>user_id</th>\n",
       "      <th>order_number</th>\n",
       "      <th>order_day_of_week</th>\n",
       "      <th>time_of_order</th>\n",
       "      <th>...</th>\n",
       "      <th>n_dependants</th>\n",
       "      <th>fam_status</th>\n",
       "      <th>income</th>\n",
       "      <th>_merge</th>\n",
       "      <th>region</th>\n",
       "      <th>activity_level</th>\n",
       "      <th>age_group</th>\n",
       "      <th>income_group</th>\n",
       "      <th>dependants_category</th>\n",
       "      <th>department</th>\n",
       "    </tr>\n",
       "  </thead>\n",
       "  <tbody>\n",
       "    <tr>\n",
       "      <th>0</th>\n",
       "      <td>1</td>\n",
       "      <td>Chocolate Sandwich Cookies</td>\n",
       "      <td>61</td>\n",
       "      <td>19</td>\n",
       "      <td>5.8</td>\n",
       "      <td>3139998</td>\n",
       "      <td>138</td>\n",
       "      <td>28</td>\n",
       "      <td>6</td>\n",
       "      <td>11</td>\n",
       "      <td>...</td>\n",
       "      <td>1</td>\n",
       "      <td>married</td>\n",
       "      <td>49620</td>\n",
       "      <td>both</td>\n",
       "      <td>midwest</td>\n",
       "      <td>high-activity customer</td>\n",
       "      <td>Senior</td>\n",
       "      <td>Low Income</td>\n",
       "      <td>One Dependant</td>\n",
       "      <td>snacks</td>\n",
       "    </tr>\n",
       "    <tr>\n",
       "      <th>1</th>\n",
       "      <td>1</td>\n",
       "      <td>Chocolate Sandwich Cookies</td>\n",
       "      <td>61</td>\n",
       "      <td>19</td>\n",
       "      <td>5.8</td>\n",
       "      <td>1977647</td>\n",
       "      <td>138</td>\n",
       "      <td>30</td>\n",
       "      <td>6</td>\n",
       "      <td>17</td>\n",
       "      <td>...</td>\n",
       "      <td>1</td>\n",
       "      <td>married</td>\n",
       "      <td>49620</td>\n",
       "      <td>both</td>\n",
       "      <td>midwest</td>\n",
       "      <td>high-activity customer</td>\n",
       "      <td>Senior</td>\n",
       "      <td>Low Income</td>\n",
       "      <td>One Dependant</td>\n",
       "      <td>snacks</td>\n",
       "    </tr>\n",
       "    <tr>\n",
       "      <th>2</th>\n",
       "      <td>1</td>\n",
       "      <td>Chocolate Sandwich Cookies</td>\n",
       "      <td>61</td>\n",
       "      <td>19</td>\n",
       "      <td>5.8</td>\n",
       "      <td>389851</td>\n",
       "      <td>709</td>\n",
       "      <td>2</td>\n",
       "      <td>0</td>\n",
       "      <td>21</td>\n",
       "      <td>...</td>\n",
       "      <td>2</td>\n",
       "      <td>married</td>\n",
       "      <td>158302</td>\n",
       "      <td>both</td>\n",
       "      <td>northeast</td>\n",
       "      <td>high-activity customer</td>\n",
       "      <td>Senior</td>\n",
       "      <td>High Income</td>\n",
       "      <td>Two Dependants</td>\n",
       "      <td>snacks</td>\n",
       "    </tr>\n",
       "    <tr>\n",
       "      <th>3</th>\n",
       "      <td>1</td>\n",
       "      <td>Chocolate Sandwich Cookies</td>\n",
       "      <td>61</td>\n",
       "      <td>19</td>\n",
       "      <td>5.8</td>\n",
       "      <td>652770</td>\n",
       "      <td>764</td>\n",
       "      <td>1</td>\n",
       "      <td>3</td>\n",
       "      <td>13</td>\n",
       "      <td>...</td>\n",
       "      <td>3</td>\n",
       "      <td>married</td>\n",
       "      <td>31308</td>\n",
       "      <td>both</td>\n",
       "      <td>midwest</td>\n",
       "      <td>low-activity customer</td>\n",
       "      <td>Adult</td>\n",
       "      <td>Low Income</td>\n",
       "      <td>Three Dependants</td>\n",
       "      <td>snacks</td>\n",
       "    </tr>\n",
       "    <tr>\n",
       "      <th>4</th>\n",
       "      <td>1</td>\n",
       "      <td>Chocolate Sandwich Cookies</td>\n",
       "      <td>61</td>\n",
       "      <td>19</td>\n",
       "      <td>5.8</td>\n",
       "      <td>1813452</td>\n",
       "      <td>764</td>\n",
       "      <td>3</td>\n",
       "      <td>4</td>\n",
       "      <td>17</td>\n",
       "      <td>...</td>\n",
       "      <td>3</td>\n",
       "      <td>married</td>\n",
       "      <td>31308</td>\n",
       "      <td>both</td>\n",
       "      <td>midwest</td>\n",
       "      <td>low-activity customer</td>\n",
       "      <td>Adult</td>\n",
       "      <td>Low Income</td>\n",
       "      <td>Three Dependants</td>\n",
       "      <td>snacks</td>\n",
       "    </tr>\n",
       "  </tbody>\n",
       "</table>\n",
       "<p>5 rows × 37 columns</p>\n",
       "</div>"
      ],
      "text/plain": [
       "   product_id                product_name  aisle_id  department_id  prices  \\\n",
       "0           1  Chocolate Sandwich Cookies        61             19     5.8   \n",
       "1           1  Chocolate Sandwich Cookies        61             19     5.8   \n",
       "2           1  Chocolate Sandwich Cookies        61             19     5.8   \n",
       "3           1  Chocolate Sandwich Cookies        61             19     5.8   \n",
       "4           1  Chocolate Sandwich Cookies        61             19     5.8   \n",
       "\n",
       "   order_id user_id  order_number  order_day_of_week  time_of_order  ...  \\\n",
       "0   3139998     138            28                  6             11  ...   \n",
       "1   1977647     138            30                  6             17  ...   \n",
       "2    389851     709             2                  0             21  ...   \n",
       "3    652770     764             1                  3             13  ...   \n",
       "4   1813452     764             3                  4             17  ...   \n",
       "\n",
       "   n_dependants  fam_status  income _merge     region          activity_level  \\\n",
       "0             1     married   49620   both    midwest  high-activity customer   \n",
       "1             1     married   49620   both    midwest  high-activity customer   \n",
       "2             2     married  158302   both  northeast  high-activity customer   \n",
       "3             3     married   31308   both    midwest   low-activity customer   \n",
       "4             3     married   31308   both    midwest   low-activity customer   \n",
       "\n",
       "  age_group  income_group dependants_category  department  \n",
       "0    Senior    Low Income       One Dependant      snacks  \n",
       "1    Senior    Low Income       One Dependant      snacks  \n",
       "2    Senior   High Income      Two Dependants      snacks  \n",
       "3     Adult    Low Income    Three Dependants      snacks  \n",
       "4     Adult    Low Income    Three Dependants      snacks  \n",
       "\n",
       "[5 rows x 37 columns]"
      ]
     },
     "execution_count": 70,
     "metadata": {},
     "output_type": "execute_result"
    }
   ],
   "source": [
    "instacart_low_acti_cust_excluded.head()"
   ]
  },
  {
   "cell_type": "code",
   "execution_count": 71,
   "id": "f8de41f7-b3f3-4d4b-a8a4-0b9b7ec8a4fe",
   "metadata": {
    "scrolled": true
   },
   "outputs": [
    {
     "data": {
      "image/png": "[encoded data removed]",
      "text/plain": [
       "<Figure size 640x480 with 1 Axes>"
      ]
     },
     "metadata": {},
     "output_type": "display_data"
    }
   ],
   "source": [
    "# Create bar chart of department orders\n",
    "department_bar = instacart_low_acti_cust_excluded['department'].value_counts().plot.bar(color='tab:blue')\n",
    "plt.title('Total Orders by Department')\n",
    "plt.tight_layout()\n",
    "plt.xlabel('')\n",
    "plt.ylabel('Count of Orders')\n",
    "plt.tight_layout() "
   ]
  },
  {
   "cell_type": "code",
   "execution_count": 80,
   "id": "18d2c60e-97ab-42bd-b0bb-1a60eb3d8df9",
   "metadata": {},
   "outputs": [],
   "source": [
    "department_bar.figure.savefig(os.path.join(path, '04_analysis', 'visualisations', 'depart_distribution_bar.png'))"
   ]
  },
  {
   "cell_type": "markdown",
   "id": "f0a702ef-3426-40be-b23b-37a6882fa324",
   "metadata": {},
   "source": [
    "### we see by the order count which departments are more popular than others. Produce is far ahead of the other departments, followed by dairy and eggs. With further analysis we can see which customers buy from which departments."
   ]
  },
  {
   "cell_type": "markdown",
   "id": "8cea716e-2483-458c-b550-f308a53601bf",
   "metadata": {},
   "source": [
    "## 6.Comparing customer profiles with regions"
   ]
  },
  {
   "cell_type": "code",
   "execution_count": 74,
   "id": "f73d8ec8-eb1b-4670-9973-8e4fb35be7dd",
   "metadata": {},
   "outputs": [],
   "source": [
    "crosstab_age_group = pd.crosstab(instacart_low_acti_cust_excluded['department'], instacart_low_acti_cust_excluded['age_group'], dropna = False)"
   ]
  },
  {
   "cell_type": "code",
   "execution_count": 75,
   "id": "ce06e398-802d-42d9-88d8-45b91b467a4e",
   "metadata": {},
   "outputs": [
    {
     "data": {
      "text/html": [
       "<div>\n",
       "<style scoped>\n",
       "    .dataframe tbody tr th:only-of-type {\n",
       "        vertical-align: middle;\n",
       "    }\n",
       "\n",
       "    .dataframe tbody tr th {\n",
       "        vertical-align: top;\n",
       "    }\n",
       "\n",
       "    .dataframe thead th {\n",
       "        text-align: right;\n",
       "    }\n",
       "</style>\n",
       "<table border=\"1\" class=\"dataframe\">\n",
       "  <thead>\n",
       "    <tr style=\"text-align: right;\">\n",
       "      <th>age_group</th>\n",
       "      <th>Adult</th>\n",
       "      <th>Middle-Aged</th>\n",
       "      <th>Senior</th>\n",
       "      <th>Young Adult</th>\n",
       "    </tr>\n",
       "    <tr>\n",
       "      <th>department</th>\n",
       "      <th></th>\n",
       "      <th></th>\n",
       "      <th></th>\n",
       "      <th></th>\n",
       "    </tr>\n",
       "  </thead>\n",
       "  <tbody>\n",
       "    <tr>\n",
       "      <th>alcohol</th>\n",
       "      <td>44890</td>\n",
       "      <td>49359</td>\n",
       "      <td>39036</td>\n",
       "      <td>20411</td>\n",
       "    </tr>\n",
       "    <tr>\n",
       "      <th>babies</th>\n",
       "      <td>127238</td>\n",
       "      <td>134108</td>\n",
       "      <td>109445</td>\n",
       "      <td>53011</td>\n",
       "    </tr>\n",
       "    <tr>\n",
       "      <th>bakery</th>\n",
       "      <td>349788</td>\n",
       "      <td>366692</td>\n",
       "      <td>309522</td>\n",
       "      <td>146426</td>\n",
       "    </tr>\n",
       "    <tr>\n",
       "      <th>beverages</th>\n",
       "      <td>789244</td>\n",
       "      <td>850960</td>\n",
       "      <td>714832</td>\n",
       "      <td>333087</td>\n",
       "    </tr>\n",
       "    <tr>\n",
       "      <th>breakfast</th>\n",
       "      <td>208477</td>\n",
       "      <td>221198</td>\n",
       "      <td>183844</td>\n",
       "      <td>89514</td>\n",
       "    </tr>\n",
       "    <tr>\n",
       "      <th>bulk</th>\n",
       "      <td>10271</td>\n",
       "      <td>10638</td>\n",
       "      <td>9242</td>\n",
       "      <td>4422</td>\n",
       "    </tr>\n",
       "    <tr>\n",
       "      <th>canned goods</th>\n",
       "      <td>319096</td>\n",
       "      <td>333034</td>\n",
       "      <td>282438</td>\n",
       "      <td>133490</td>\n",
       "    </tr>\n",
       "    <tr>\n",
       "      <th>dairy eggs</th>\n",
       "      <td>1615921</td>\n",
       "      <td>1681753</td>\n",
       "      <td>1426213</td>\n",
       "      <td>674860</td>\n",
       "    </tr>\n",
       "    <tr>\n",
       "      <th>deli</th>\n",
       "      <td>313917</td>\n",
       "      <td>329214</td>\n",
       "      <td>277618</td>\n",
       "      <td>130500</td>\n",
       "    </tr>\n",
       "    <tr>\n",
       "      <th>dry goods pasta</th>\n",
       "      <td>256969</td>\n",
       "      <td>270914</td>\n",
       "      <td>228935</td>\n",
       "      <td>109809</td>\n",
       "    </tr>\n",
       "    <tr>\n",
       "      <th>frozen</th>\n",
       "      <td>658348</td>\n",
       "      <td>702751</td>\n",
       "      <td>593669</td>\n",
       "      <td>279975</td>\n",
       "    </tr>\n",
       "    <tr>\n",
       "      <th>household</th>\n",
       "      <td>219146</td>\n",
       "      <td>230912</td>\n",
       "      <td>196935</td>\n",
       "      <td>91673</td>\n",
       "    </tr>\n",
       "    <tr>\n",
       "      <th>international</th>\n",
       "      <td>80649</td>\n",
       "      <td>83793</td>\n",
       "      <td>70774</td>\n",
       "      <td>34037</td>\n",
       "    </tr>\n",
       "    <tr>\n",
       "      <th>meat seafood</th>\n",
       "      <td>209439</td>\n",
       "      <td>220521</td>\n",
       "      <td>190114</td>\n",
       "      <td>88853</td>\n",
       "    </tr>\n",
       "    <tr>\n",
       "      <th>missing</th>\n",
       "      <td>20381</td>\n",
       "      <td>21671</td>\n",
       "      <td>18094</td>\n",
       "      <td>8999</td>\n",
       "    </tr>\n",
       "    <tr>\n",
       "      <th>other</th>\n",
       "      <td>10730</td>\n",
       "      <td>11469</td>\n",
       "      <td>9425</td>\n",
       "      <td>4667</td>\n",
       "    </tr>\n",
       "    <tr>\n",
       "      <th>pantry</th>\n",
       "      <td>556843</td>\n",
       "      <td>587752</td>\n",
       "      <td>496979</td>\n",
       "      <td>233795</td>\n",
       "    </tr>\n",
       "    <tr>\n",
       "      <th>personal care</th>\n",
       "      <td>132443</td>\n",
       "      <td>141907</td>\n",
       "      <td>117405</td>\n",
       "      <td>55817</td>\n",
       "    </tr>\n",
       "    <tr>\n",
       "      <th>pets</th>\n",
       "      <td>28324</td>\n",
       "      <td>29811</td>\n",
       "      <td>26286</td>\n",
       "      <td>13295</td>\n",
       "    </tr>\n",
       "    <tr>\n",
       "      <th>produce</th>\n",
       "      <td>2832448</td>\n",
       "      <td>2955476</td>\n",
       "      <td>2513763</td>\n",
       "      <td>1177604</td>\n",
       "    </tr>\n",
       "    <tr>\n",
       "      <th>snacks</th>\n",
       "      <td>860333</td>\n",
       "      <td>905758</td>\n",
       "      <td>760515</td>\n",
       "      <td>360944</td>\n",
       "    </tr>\n",
       "  </tbody>\n",
       "</table>\n",
       "</div>"
      ],
      "text/plain": [
       "age_group          Adult  Middle-Aged   Senior  Young Adult\n",
       "department                                                 \n",
       "alcohol            44890        49359    39036        20411\n",
       "babies            127238       134108   109445        53011\n",
       "bakery            349788       366692   309522       146426\n",
       "beverages         789244       850960   714832       333087\n",
       "breakfast         208477       221198   183844        89514\n",
       "bulk               10271        10638     9242         4422\n",
       "canned goods      319096       333034   282438       133490\n",
       "dairy eggs       1615921      1681753  1426213       674860\n",
       "deli              313917       329214   277618       130500\n",
       "dry goods pasta   256969       270914   228935       109809\n",
       "frozen            658348       702751   593669       279975\n",
       "household         219146       230912   196935        91673\n",
       "international      80649        83793    70774        34037\n",
       "meat seafood      209439       220521   190114        88853\n",
       "missing            20381        21671    18094         8999\n",
       "other              10730        11469     9425         4667\n",
       "pantry            556843       587752   496979       233795\n",
       "personal care     132443       141907   117405        55817\n",
       "pets               28324        29811    26286        13295\n",
       "produce          2832448      2955476  2513763      1177604\n",
       "snacks            860333       905758   760515       360944"
      ]
     },
     "execution_count": 75,
     "metadata": {},
     "output_type": "execute_result"
    }
   ],
   "source": [
    "crosstab_age_group"
   ]
  },
  {
   "cell_type": "code",
   "execution_count": 79,
   "id": "9912e4b3-8d7b-4b26-8ec8-d81def4674c5",
   "metadata": {},
   "outputs": [
    {
     "data": {
      "image/png": "[encoded data removed]",
      "text/plain": [
       "<Figure size 640x480 with 1 Axes>"
      ]
     },
     "metadata": {},
     "output_type": "display_data"
    }
   ],
   "source": [
    "# Create a bar chart of the above crosstab_age_group\n",
    "bar_crosstab_age_group = crosstab_age_group.plot.bar(color=['blue', 'red', 'purple', 'green'])\n",
    "plt.xlabel(\"\")\n",
    "plt.ylabel(\" Frequency \")\n",
    "plt.title(\"Distribution of Department Purchases by Age Group\")\n",
    "plt.tight_layout() "
   ]
  },
  {
   "cell_type": "markdown",
   "id": "01c9c7bd-6f02-471f-9f9c-55155de88418",
   "metadata": {},
   "source": [
    "### The graph shows that the ratio between the foup age groups stays consistant across all departments. Middle aged customers are the best customers, followed by adults, seniors and young adults."
   ]
  },
  {
   "cell_type": "code",
   "execution_count": 81,
   "id": "018941a8-b826-495a-8922-d3cb59145105",
   "metadata": {},
   "outputs": [],
   "source": [
    "bar_crosstab_age_group.figure.savefig(os.path.join(path, '04_analysis', 'visualisations', 'bar_dept_age_group_distribution.png'))"
   ]
  },
  {
   "cell_type": "code",
   "execution_count": 83,
   "id": "7a920bd1-a991-43a6-88cc-e518c815a08f",
   "metadata": {},
   "outputs": [],
   "source": [
    "crosstab_region = pd.crosstab(instacart_low_acti_cust_excluded['department'], instacart_low_acti_cust_excluded['region'], dropna = False)"
   ]
  },
  {
   "cell_type": "code",
   "execution_count": 84,
   "id": "8a8ca2b4-c7ff-465f-b2fb-3639d6968f2c",
   "metadata": {},
   "outputs": [
    {
     "data": {
      "text/html": [
       "<div>\n",
       "<style scoped>\n",
       "    .dataframe tbody tr th:only-of-type {\n",
       "        vertical-align: middle;\n",
       "    }\n",
       "\n",
       "    .dataframe tbody tr th {\n",
       "        vertical-align: top;\n",
       "    }\n",
       "\n",
       "    .dataframe thead th {\n",
       "        text-align: right;\n",
       "    }\n",
       "</style>\n",
       "<table border=\"1\" class=\"dataframe\">\n",
       "  <thead>\n",
       "    <tr style=\"text-align: right;\">\n",
       "      <th>region</th>\n",
       "      <th>midwest</th>\n",
       "      <th>northeast</th>\n",
       "      <th>south</th>\n",
       "      <th>west</th>\n",
       "    </tr>\n",
       "    <tr>\n",
       "      <th>department</th>\n",
       "      <th></th>\n",
       "      <th></th>\n",
       "      <th></th>\n",
       "      <th></th>\n",
       "    </tr>\n",
       "  </thead>\n",
       "  <tbody>\n",
       "    <tr>\n",
       "      <th>alcohol</th>\n",
       "      <td>36186</td>\n",
       "      <td>26542</td>\n",
       "      <td>51624</td>\n",
       "      <td>39344</td>\n",
       "    </tr>\n",
       "    <tr>\n",
       "      <th>babies</th>\n",
       "      <td>98983</td>\n",
       "      <td>75139</td>\n",
       "      <td>143654</td>\n",
       "      <td>106026</td>\n",
       "    </tr>\n",
       "    <tr>\n",
       "      <th>bakery</th>\n",
       "      <td>273869</td>\n",
       "      <td>208599</td>\n",
       "      <td>388815</td>\n",
       "      <td>301145</td>\n",
       "    </tr>\n",
       "    <tr>\n",
       "      <th>beverages</th>\n",
       "      <td>625574</td>\n",
       "      <td>483418</td>\n",
       "      <td>898940</td>\n",
       "      <td>680191</td>\n",
       "    </tr>\n",
       "    <tr>\n",
       "      <th>breakfast</th>\n",
       "      <td>163551</td>\n",
       "      <td>123574</td>\n",
       "      <td>234251</td>\n",
       "      <td>181657</td>\n",
       "    </tr>\n",
       "    <tr>\n",
       "      <th>bulk</th>\n",
       "      <td>8193</td>\n",
       "      <td>5802</td>\n",
       "      <td>11533</td>\n",
       "      <td>9045</td>\n",
       "    </tr>\n",
       "    <tr>\n",
       "      <th>canned goods</th>\n",
       "      <td>250702</td>\n",
       "      <td>186755</td>\n",
       "      <td>356015</td>\n",
       "      <td>274586</td>\n",
       "    </tr>\n",
       "    <tr>\n",
       "      <th>dairy eggs</th>\n",
       "      <td>1264223</td>\n",
       "      <td>954026</td>\n",
       "      <td>1796969</td>\n",
       "      <td>1383529</td>\n",
       "    </tr>\n",
       "    <tr>\n",
       "      <th>deli</th>\n",
       "      <td>245678</td>\n",
       "      <td>186817</td>\n",
       "      <td>349419</td>\n",
       "      <td>269335</td>\n",
       "    </tr>\n",
       "    <tr>\n",
       "      <th>dry goods pasta</th>\n",
       "      <td>203769</td>\n",
       "      <td>151816</td>\n",
       "      <td>287444</td>\n",
       "      <td>223598</td>\n",
       "    </tr>\n",
       "    <tr>\n",
       "      <th>frozen</th>\n",
       "      <td>524096</td>\n",
       "      <td>390918</td>\n",
       "      <td>747900</td>\n",
       "      <td>571829</td>\n",
       "    </tr>\n",
       "    <tr>\n",
       "      <th>household</th>\n",
       "      <td>175824</td>\n",
       "      <td>131485</td>\n",
       "      <td>243070</td>\n",
       "      <td>188287</td>\n",
       "    </tr>\n",
       "    <tr>\n",
       "      <th>international</th>\n",
       "      <td>63736</td>\n",
       "      <td>46891</td>\n",
       "      <td>89142</td>\n",
       "      <td>69484</td>\n",
       "    </tr>\n",
       "    <tr>\n",
       "      <th>meat seafood</th>\n",
       "      <td>166129</td>\n",
       "      <td>124620</td>\n",
       "      <td>235752</td>\n",
       "      <td>182426</td>\n",
       "    </tr>\n",
       "    <tr>\n",
       "      <th>missing</th>\n",
       "      <td>16535</td>\n",
       "      <td>12374</td>\n",
       "      <td>23193</td>\n",
       "      <td>17043</td>\n",
       "    </tr>\n",
       "    <tr>\n",
       "      <th>other</th>\n",
       "      <td>8420</td>\n",
       "      <td>6585</td>\n",
       "      <td>12212</td>\n",
       "      <td>9074</td>\n",
       "    </tr>\n",
       "    <tr>\n",
       "      <th>pantry</th>\n",
       "      <td>442101</td>\n",
       "      <td>329445</td>\n",
       "      <td>622436</td>\n",
       "      <td>481387</td>\n",
       "    </tr>\n",
       "    <tr>\n",
       "      <th>personal care</th>\n",
       "      <td>105749</td>\n",
       "      <td>78815</td>\n",
       "      <td>150350</td>\n",
       "      <td>112658</td>\n",
       "    </tr>\n",
       "    <tr>\n",
       "      <th>pets</th>\n",
       "      <td>22355</td>\n",
       "      <td>18601</td>\n",
       "      <td>31269</td>\n",
       "      <td>25491</td>\n",
       "    </tr>\n",
       "    <tr>\n",
       "      <th>produce</th>\n",
       "      <td>2227937</td>\n",
       "      <td>1665839</td>\n",
       "      <td>3160551</td>\n",
       "      <td>2424964</td>\n",
       "    </tr>\n",
       "    <tr>\n",
       "      <th>snacks</th>\n",
       "      <td>673715</td>\n",
       "      <td>514675</td>\n",
       "      <td>957346</td>\n",
       "      <td>741814</td>\n",
       "    </tr>\n",
       "  </tbody>\n",
       "</table>\n",
       "</div>"
      ],
      "text/plain": [
       "region           midwest  northeast    south     west\n",
       "department                                           \n",
       "alcohol            36186      26542    51624    39344\n",
       "babies             98983      75139   143654   106026\n",
       "bakery            273869     208599   388815   301145\n",
       "beverages         625574     483418   898940   680191\n",
       "breakfast         163551     123574   234251   181657\n",
       "bulk                8193       5802    11533     9045\n",
       "canned goods      250702     186755   356015   274586\n",
       "dairy eggs       1264223     954026  1796969  1383529\n",
       "deli              245678     186817   349419   269335\n",
       "dry goods pasta   203769     151816   287444   223598\n",
       "frozen            524096     390918   747900   571829\n",
       "household         175824     131485   243070   188287\n",
       "international      63736      46891    89142    69484\n",
       "meat seafood      166129     124620   235752   182426\n",
       "missing            16535      12374    23193    17043\n",
       "other               8420       6585    12212     9074\n",
       "pantry            442101     329445   622436   481387\n",
       "personal care     105749      78815   150350   112658\n",
       "pets               22355      18601    31269    25491\n",
       "produce          2227937    1665839  3160551  2424964\n",
       "snacks            673715     514675   957346   741814"
      ]
     },
     "execution_count": 84,
     "metadata": {},
     "output_type": "execute_result"
    }
   ],
   "source": [
    "crosstab_region"
   ]
  },
  {
   "cell_type": "code",
   "execution_count": 85,
   "id": "59083936-73fe-42df-a62f-9340186b6201",
   "metadata": {},
   "outputs": [
    {
     "data": {
      "image/png": "[encoded data removed]",
      "text/plain": [
       "<Figure size 640x480 with 1 Axes>"
      ]
     },
     "metadata": {},
     "output_type": "display_data"
    }
   ],
   "source": [
    "# Create a bar chart of the above crosstab_region\n",
    "bar_crosstab_region = crosstab_region.plot.bar(color=['blue', 'red', 'purple', 'green'])\n",
    "plt.xlabel(\"\")\n",
    "plt.ylabel(\" Frequency \")\n",
    "plt.title(\"Distribution of Department Purchases by Region\")\n",
    "plt.tight_layout() "
   ]
  },
  {
   "cell_type": "markdown",
   "id": "193cfa0c-bda8-47f8-8e5a-f71335da7291",
   "metadata": {},
   "source": [
    "### The graph shows that the ratio between the foup geographical regions stays consistant across all departments. Southern customers are the best, followed by the West, Mid West and North East adults."
   ]
  },
  {
   "cell_type": "code",
   "execution_count": 86,
   "id": "8dcdf397-1bce-458a-b862-3d5e060eed4d",
   "metadata": {},
   "outputs": [],
   "source": [
    "bar_crosstab_region.figure.savefig(os.path.join(path, '04_analysis', 'visualisations', 'bar_dept_regional_distribution.png'))"
   ]
  },
  {
   "cell_type": "markdown",
   "id": "d49d4a08-c232-4c8a-8693-d6a8daa9ec05",
   "metadata": {},
   "source": [
    "## 7.Comparing customer profiles with departments"
   ]
  },
  {
   "cell_type": "code",
   "execution_count": 95,
   "id": "683b09f0-39cb-447a-868e-af77081c923d",
   "metadata": {},
   "outputs": [],
   "source": [
    "crosstab_fam_status = pd.crosstab(instacart_low_acti_cust_excluded['department'], instacart_low_acti_cust_excluded['fam_status'], dropna = False)"
   ]
  },
  {
   "cell_type": "code",
   "execution_count": 96,
   "id": "dcff1528-8bf4-433c-9eee-6e30cb991c56",
   "metadata": {},
   "outputs": [
    {
     "data": {
      "text/html": [
       "<div>\n",
       "<style scoped>\n",
       "    .dataframe tbody tr th:only-of-type {\n",
       "        vertical-align: middle;\n",
       "    }\n",
       "\n",
       "    .dataframe tbody tr th {\n",
       "        vertical-align: top;\n",
       "    }\n",
       "\n",
       "    .dataframe thead th {\n",
       "        text-align: right;\n",
       "    }\n",
       "</style>\n",
       "<table border=\"1\" class=\"dataframe\">\n",
       "  <thead>\n",
       "    <tr style=\"text-align: right;\">\n",
       "      <th>fam_status</th>\n",
       "      <th>divorced/widowed</th>\n",
       "      <th>living with parents and siblings</th>\n",
       "      <th>married</th>\n",
       "      <th>single</th>\n",
       "    </tr>\n",
       "    <tr>\n",
       "      <th>department</th>\n",
       "      <th></th>\n",
       "      <th></th>\n",
       "      <th></th>\n",
       "      <th></th>\n",
       "    </tr>\n",
       "  </thead>\n",
       "  <tbody>\n",
       "    <tr>\n",
       "      <th>alcohol</th>\n",
       "      <td>12615</td>\n",
       "      <td>8896</td>\n",
       "      <td>105682</td>\n",
       "      <td>26503</td>\n",
       "    </tr>\n",
       "    <tr>\n",
       "      <th>babies</th>\n",
       "      <td>35326</td>\n",
       "      <td>20146</td>\n",
       "      <td>297162</td>\n",
       "      <td>71168</td>\n",
       "    </tr>\n",
       "    <tr>\n",
       "      <th>bakery</th>\n",
       "      <td>100401</td>\n",
       "      <td>56142</td>\n",
       "      <td>821881</td>\n",
       "      <td>194004</td>\n",
       "    </tr>\n",
       "    <tr>\n",
       "      <th>beverages</th>\n",
       "      <td>231025</td>\n",
       "      <td>124629</td>\n",
       "      <td>1889052</td>\n",
       "      <td>443417</td>\n",
       "    </tr>\n",
       "    <tr>\n",
       "      <th>breakfast</th>\n",
       "      <td>59498</td>\n",
       "      <td>34731</td>\n",
       "      <td>493725</td>\n",
       "      <td>115079</td>\n",
       "    </tr>\n",
       "    <tr>\n",
       "      <th>bulk</th>\n",
       "      <td>2765</td>\n",
       "      <td>1674</td>\n",
       "      <td>24621</td>\n",
       "      <td>5513</td>\n",
       "    </tr>\n",
       "    <tr>\n",
       "      <th>canned goods</th>\n",
       "      <td>89259</td>\n",
       "      <td>51190</td>\n",
       "      <td>752030</td>\n",
       "      <td>175579</td>\n",
       "    </tr>\n",
       "    <tr>\n",
       "      <th>dairy eggs</th>\n",
       "      <td>461911</td>\n",
       "      <td>260787</td>\n",
       "      <td>3788598</td>\n",
       "      <td>887451</td>\n",
       "    </tr>\n",
       "    <tr>\n",
       "      <th>deli</th>\n",
       "      <td>90818</td>\n",
       "      <td>50415</td>\n",
       "      <td>735689</td>\n",
       "      <td>174327</td>\n",
       "    </tr>\n",
       "    <tr>\n",
       "      <th>dry goods pasta</th>\n",
       "      <td>74220</td>\n",
       "      <td>41702</td>\n",
       "      <td>609663</td>\n",
       "      <td>141042</td>\n",
       "    </tr>\n",
       "    <tr>\n",
       "      <th>frozen</th>\n",
       "      <td>193575</td>\n",
       "      <td>108533</td>\n",
       "      <td>1569050</td>\n",
       "      <td>363585</td>\n",
       "    </tr>\n",
       "    <tr>\n",
       "      <th>household</th>\n",
       "      <td>61805</td>\n",
       "      <td>35226</td>\n",
       "      <td>522667</td>\n",
       "      <td>118968</td>\n",
       "    </tr>\n",
       "    <tr>\n",
       "      <th>international</th>\n",
       "      <td>23060</td>\n",
       "      <td>13074</td>\n",
       "      <td>188466</td>\n",
       "      <td>44653</td>\n",
       "    </tr>\n",
       "    <tr>\n",
       "      <th>meat seafood</th>\n",
       "      <td>60477</td>\n",
       "      <td>33981</td>\n",
       "      <td>500862</td>\n",
       "      <td>113607</td>\n",
       "    </tr>\n",
       "    <tr>\n",
       "      <th>missing</th>\n",
       "      <td>5493</td>\n",
       "      <td>3571</td>\n",
       "      <td>48486</td>\n",
       "      <td>11595</td>\n",
       "    </tr>\n",
       "    <tr>\n",
       "      <th>other</th>\n",
       "      <td>3002</td>\n",
       "      <td>1911</td>\n",
       "      <td>25205</td>\n",
       "      <td>6173</td>\n",
       "    </tr>\n",
       "    <tr>\n",
       "      <th>pantry</th>\n",
       "      <td>159981</td>\n",
       "      <td>90272</td>\n",
       "      <td>1318340</td>\n",
       "      <td>306776</td>\n",
       "    </tr>\n",
       "    <tr>\n",
       "      <th>personal care</th>\n",
       "      <td>38542</td>\n",
       "      <td>21312</td>\n",
       "      <td>314254</td>\n",
       "      <td>73464</td>\n",
       "    </tr>\n",
       "    <tr>\n",
       "      <th>pets</th>\n",
       "      <td>8409</td>\n",
       "      <td>5620</td>\n",
       "      <td>67513</td>\n",
       "      <td>16174</td>\n",
       "    </tr>\n",
       "    <tr>\n",
       "      <th>produce</th>\n",
       "      <td>812834</td>\n",
       "      <td>449628</td>\n",
       "      <td>6654218</td>\n",
       "      <td>1562611</td>\n",
       "    </tr>\n",
       "    <tr>\n",
       "      <th>snacks</th>\n",
       "      <td>246796</td>\n",
       "      <td>137163</td>\n",
       "      <td>2029589</td>\n",
       "      <td>474002</td>\n",
       "    </tr>\n",
       "  </tbody>\n",
       "</table>\n",
       "</div>"
      ],
      "text/plain": [
       "fam_status       divorced/widowed  living with parents and siblings  married  \\\n",
       "department                                                                     \n",
       "alcohol                     12615                              8896   105682   \n",
       "babies                      35326                             20146   297162   \n",
       "bakery                     100401                             56142   821881   \n",
       "beverages                  231025                            124629  1889052   \n",
       "breakfast                   59498                             34731   493725   \n",
       "bulk                         2765                              1674    24621   \n",
       "canned goods                89259                             51190   752030   \n",
       "dairy eggs                 461911                            260787  3788598   \n",
       "deli                        90818                             50415   735689   \n",
       "dry goods pasta             74220                             41702   609663   \n",
       "frozen                     193575                            108533  1569050   \n",
       "household                   61805                             35226   522667   \n",
       "international               23060                             13074   188466   \n",
       "meat seafood                60477                             33981   500862   \n",
       "missing                      5493                              3571    48486   \n",
       "other                        3002                              1911    25205   \n",
       "pantry                     159981                             90272  1318340   \n",
       "personal care               38542                             21312   314254   \n",
       "pets                         8409                              5620    67513   \n",
       "produce                    812834                            449628  6654218   \n",
       "snacks                     246796                            137163  2029589   \n",
       "\n",
       "fam_status        single  \n",
       "department                \n",
       "alcohol            26503  \n",
       "babies             71168  \n",
       "bakery            194004  \n",
       "beverages         443417  \n",
       "breakfast         115079  \n",
       "bulk                5513  \n",
       "canned goods      175579  \n",
       "dairy eggs        887451  \n",
       "deli              174327  \n",
       "dry goods pasta   141042  \n",
       "frozen            363585  \n",
       "household         118968  \n",
       "international      44653  \n",
       "meat seafood      113607  \n",
       "missing            11595  \n",
       "other               6173  \n",
       "pantry            306776  \n",
       "personal care      73464  \n",
       "pets               16174  \n",
       "produce          1562611  \n",
       "snacks            474002  "
      ]
     },
     "execution_count": 96,
     "metadata": {},
     "output_type": "execute_result"
    }
   ],
   "source": [
    "crosstab_fam_status"
   ]
  },
  {
   "cell_type": "code",
   "execution_count": 97,
   "id": "bd318cc4-45ff-42cd-ba97-32e448869bcf",
   "metadata": {},
   "outputs": [
    {
     "data": {
      "image/png": "[encoded data removed]",
      "text/plain": [
       "<Figure size 640x480 with 1 Axes>"
      ]
     },
     "metadata": {},
     "output_type": "display_data"
    }
   ],
   "source": [
    "# Create a bar chart of the above crosstab_busy_day\n",
    "bar_crosstab_fam_status = crosstab_fam_status.plot.bar(color=['blue', 'red', 'purple', 'green'])\n",
    "plt.xlabel(\"\")\n",
    "plt.ylabel(\" Frequency \")\n",
    "plt.title(\"Distribution of Department Purchases by Family Status\")\n",
    "plt.tight_layout() "
   ]
  },
  {
   "cell_type": "markdown",
   "id": "5f639822-a086-4161-a1d5-e342838b54c2",
   "metadata": {},
   "source": [
    "### The graph does not show any variation between departments with regards to family status. The strongest purchasing power comes from married customers across all departments."
   ]
  },
  {
   "cell_type": "code",
   "execution_count": 99,
   "id": "66985d5c-daea-4f7c-ace8-918e91afe9d0",
   "metadata": {},
   "outputs": [],
   "source": [
    "bar_crosstab_fam_status.figure.savefig(os.path.join(path, '04_analysis', 'visualisations', 'bar_dept_fam_status.png'))"
   ]
  },
  {
   "cell_type": "markdown",
   "id": "060c6214-935f-4aff-8652-0d1d13fa4a0d",
   "metadata": {},
   "source": [
    "### family status/ income analysis"
   ]
  },
  {
   "cell_type": "code",
   "execution_count": 104,
   "id": "bd5a213f-611d-4f1f-8570-dd723c5a1824",
   "metadata": {},
   "outputs": [],
   "source": [
    "crosstab_fam_status_income = pd.crosstab(instacart_low_acti_cust_excluded['income_group'], instacart_low_acti_cust_excluded['fam_status'], dropna = False)"
   ]
  },
  {
   "cell_type": "code",
   "execution_count": 105,
   "id": "7c753bb0-e595-4b34-87a9-daf05d9a9f73",
   "metadata": {},
   "outputs": [
    {
     "data": {
      "text/html": [
       "<div>\n",
       "<style scoped>\n",
       "    .dataframe tbody tr th:only-of-type {\n",
       "        vertical-align: middle;\n",
       "    }\n",
       "\n",
       "    .dataframe tbody tr th {\n",
       "        vertical-align: top;\n",
       "    }\n",
       "\n",
       "    .dataframe thead th {\n",
       "        text-align: right;\n",
       "    }\n",
       "</style>\n",
       "<table border=\"1\" class=\"dataframe\">\n",
       "  <thead>\n",
       "    <tr style=\"text-align: right;\">\n",
       "      <th>fam_status</th>\n",
       "      <th>divorced/widowed</th>\n",
       "      <th>living with parents and siblings</th>\n",
       "      <th>married</th>\n",
       "      <th>single</th>\n",
       "    </tr>\n",
       "    <tr>\n",
       "      <th>income_group</th>\n",
       "      <th></th>\n",
       "      <th></th>\n",
       "      <th></th>\n",
       "      <th></th>\n",
       "    </tr>\n",
       "  </thead>\n",
       "  <tbody>\n",
       "    <tr>\n",
       "      <th>High Income</th>\n",
       "      <td>1084077</td>\n",
       "      <td>17948</td>\n",
       "      <td>6170213</td>\n",
       "      <td>996671</td>\n",
       "    </tr>\n",
       "    <tr>\n",
       "      <th>Low Income</th>\n",
       "      <td>352814</td>\n",
       "      <td>693454</td>\n",
       "      <td>5385504</td>\n",
       "      <td>1669027</td>\n",
       "    </tr>\n",
       "    <tr>\n",
       "      <th>Middle Income</th>\n",
       "      <td>1334921</td>\n",
       "      <td>839201</td>\n",
       "      <td>11201036</td>\n",
       "      <td>2659993</td>\n",
       "    </tr>\n",
       "  </tbody>\n",
       "</table>\n",
       "</div>"
      ],
      "text/plain": [
       "fam_status     divorced/widowed  living with parents and siblings   married  \\\n",
       "income_group                                                                  \n",
       "High Income             1084077                             17948   6170213   \n",
       "Low Income               352814                            693454   5385504   \n",
       "Middle Income           1334921                            839201  11201036   \n",
       "\n",
       "fam_status      single  \n",
       "income_group            \n",
       "High Income     996671  \n",
       "Low Income     1669027  \n",
       "Middle Income  2659993  "
      ]
     },
     "execution_count": 105,
     "metadata": {},
     "output_type": "execute_result"
    }
   ],
   "source": [
    "crosstab_fam_status_income"
   ]
  },
  {
   "cell_type": "code",
   "execution_count": 106,
   "id": "43836145-ddd3-418c-a87b-f4d3a35ed60f",
   "metadata": {},
   "outputs": [
    {
     "ename": "TypeError",
     "evalue": "'Text' object is not callable",
     "output_type": "error",
     "traceback": [
      "\u001b[1;31m---------------------------------------------------------------------------\u001b[0m",
      "\u001b[1;31mTypeError\u001b[0m                                 Traceback (most recent call last)",
      "Cell \u001b[1;32mIn[106], line 5\u001b[0m\n\u001b[0;32m      3\u001b[0m \u001b[38;5;66;03m# Plot the histogram bars\u001b[39;00m\n\u001b[0;32m      4\u001b[0m plt \u001b[38;5;241m=\u001b[39m sns\u001b[38;5;241m.\u001b[39mhistplot(data\u001b[38;5;241m=\u001b[39minstacart_low_acti_cust_excluded, x\u001b[38;5;241m=\u001b[39m\u001b[38;5;124m'\u001b[39m\u001b[38;5;124mincome_group\u001b[39m\u001b[38;5;124m'\u001b[39m, hue\u001b[38;5;241m=\u001b[39m\u001b[38;5;124m'\u001b[39m\u001b[38;5;124mfam_status\u001b[39m\u001b[38;5;124m'\u001b[39m, multiple\u001b[38;5;241m=\u001b[39m\u001b[38;5;124m'\u001b[39m\u001b[38;5;124mdodge\u001b[39m\u001b[38;5;124m'\u001b[39m, shrink\u001b[38;5;241m=\u001b[39m\u001b[38;5;241m.8\u001b[39m, alpha\u001b[38;5;241m=\u001b[39m\u001b[38;5;241m1\u001b[39m)\n\u001b[1;32m----> 5\u001b[0m plt\u001b[38;5;241m.\u001b[39mtitle(\u001b[38;5;124m'\u001b[39m\u001b[38;5;124mDistribution of Customer Income groups by Fam Status\u001b[39m\u001b[38;5;124m'\u001b[39m)\n\u001b[0;32m      6\u001b[0m plt\u001b[38;5;241m.\u001b[39mylabel(\u001b[38;5;124m'\u001b[39m\u001b[38;5;124mNo. of Customers\u001b[39m\u001b[38;5;124m'\u001b[39m)\n\u001b[0;32m      7\u001b[0m plt\u001b[38;5;241m.\u001b[39mxlabel(\u001b[38;5;124m'\u001b[39m\u001b[38;5;124mRegion\u001b[39m\u001b[38;5;124m'\u001b[39m)\n",
      "\u001b[1;31mTypeError\u001b[0m: 'Text' object is not callable"
     ]
    },
    {
     "data": {
      "image/png": "[encoded data removed]",
      "text/plain": [
       "<Figure size 800x600 with 1 Axes>"
      ]
     },
     "metadata": {},
     "output_type": "display_data"
    }
   ],
   "source": [
    " # Plot the histogram bars\n",
    " plt = sns.histplot(data=instacart_low_acti_cust_excluded, x='income_group', hue='fam_status', multiple='dodge', shrink=.8, alpha=1)\n",
    " plt.title('Distribution of Customer Income groups by Fam Status')\n",
    " plt.ylabel('No. of Customers')\n",
    " plt.xlabel('Region')"
   ]
  },
  {
   "cell_type": "code",
   "execution_count": 107,
   "id": "ae1af850-2071-4cd1-bbea-ad4fc7111019",
   "metadata": {},
   "outputs": [],
   "source": [
    "plt.figure.savefig(os.path.join(path, '04_analysis', 'visualisations', 'hist_income_fam_status.png'))"
   ]
  },
  {
   "cell_type": "markdown",
   "id": "24b07988-2dd7-4009-8089-3528a4bf6e04",
   "metadata": {},
   "source": [
    "### Family Status/Age analysis"
   ]
  },
  {
   "cell_type": "code",
   "execution_count": 108,
   "id": "c5b4a6d6-7509-4718-ba54-8e3f3044d66e",
   "metadata": {},
   "outputs": [],
   "source": [
    "crosstab_fam_status_age = pd.crosstab(instacart_low_acti_cust_excluded['age_group'], instacart_low_acti_cust_excluded['fam_status'], dropna = False)"
   ]
  },
  {
   "cell_type": "code",
   "execution_count": 109,
   "id": "d768af86-73ac-4f76-a022-c13d43185888",
   "metadata": {},
   "outputs": [
    {
     "data": {
      "text/html": [
       "<div>\n",
       "<style scoped>\n",
       "    .dataframe tbody tr th:only-of-type {\n",
       "        vertical-align: middle;\n",
       "    }\n",
       "\n",
       "    .dataframe tbody tr th {\n",
       "        vertical-align: top;\n",
       "    }\n",
       "\n",
       "    .dataframe thead th {\n",
       "        text-align: right;\n",
       "    }\n",
       "</style>\n",
       "<table border=\"1\" class=\"dataframe\">\n",
       "  <thead>\n",
       "    <tr style=\"text-align: right;\">\n",
       "      <th>fam_status</th>\n",
       "      <th>divorced/widowed</th>\n",
       "      <th>living with parents and siblings</th>\n",
       "      <th>married</th>\n",
       "      <th>single</th>\n",
       "    </tr>\n",
       "    <tr>\n",
       "      <th>age_group</th>\n",
       "      <th></th>\n",
       "      <th></th>\n",
       "      <th></th>\n",
       "      <th></th>\n",
       "    </tr>\n",
       "  </thead>\n",
       "  <tbody>\n",
       "    <tr>\n",
       "      <th>Adult</th>\n",
       "      <td>0</td>\n",
       "      <td>0</td>\n",
       "      <td>7227993</td>\n",
       "      <td>2416902</td>\n",
       "    </tr>\n",
       "    <tr>\n",
       "      <th>Middle-Aged</th>\n",
       "      <td>651728</td>\n",
       "      <td>0</td>\n",
       "      <td>7576723</td>\n",
       "      <td>1911240</td>\n",
       "    </tr>\n",
       "    <tr>\n",
       "      <th>Senior</th>\n",
       "      <td>2120084</td>\n",
       "      <td>0</td>\n",
       "      <td>6455000</td>\n",
       "      <td>0</td>\n",
       "    </tr>\n",
       "    <tr>\n",
       "      <th>Young Adult</th>\n",
       "      <td>0</td>\n",
       "      <td>1550603</td>\n",
       "      <td>1497037</td>\n",
       "      <td>997549</td>\n",
       "    </tr>\n",
       "  </tbody>\n",
       "</table>\n",
       "</div>"
      ],
      "text/plain": [
       "fam_status   divorced/widowed  living with parents and siblings  married  \\\n",
       "age_group                                                                  \n",
       "Adult                       0                                 0  7227993   \n",
       "Middle-Aged            651728                                 0  7576723   \n",
       "Senior                2120084                                 0  6455000   \n",
       "Young Adult                 0                           1550603  1497037   \n",
       "\n",
       "fam_status    single  \n",
       "age_group             \n",
       "Adult        2416902  \n",
       "Middle-Aged  1911240  \n",
       "Senior             0  \n",
       "Young Adult   997549  "
      ]
     },
     "execution_count": 109,
     "metadata": {},
     "output_type": "execute_result"
    }
   ],
   "source": [
    "crosstab_fam_status_age"
   ]
  },
  {
   "cell_type": "code",
   "execution_count": 116,
   "id": "3d8dedb7-d2be-461f-bad4-55db6cceaa55",
   "metadata": {},
   "outputs": [
    {
     "ename": "AttributeError",
     "evalue": "'Axes' object has no attribute 'xlabel'",
     "output_type": "error",
     "traceback": [
      "\u001b[1;31m---------------------------------------------------------------------------\u001b[0m",
      "\u001b[1;31mAttributeError\u001b[0m                            Traceback (most recent call last)",
      "Cell \u001b[1;32mIn[116], line 3\u001b[0m\n\u001b[0;32m      1\u001b[0m \u001b[38;5;66;03m# Create a bar chart of the above crosstab_busy_day\u001b[39;00m\n\u001b[0;32m      2\u001b[0m bar_crosstab_fam_status_age \u001b[38;5;241m=\u001b[39m crosstab_fam_status_age\u001b[38;5;241m.\u001b[39mplot\u001b[38;5;241m.\u001b[39mbar(color\u001b[38;5;241m=\u001b[39m[\u001b[38;5;124m'\u001b[39m\u001b[38;5;124mblue\u001b[39m\u001b[38;5;124m'\u001b[39m, \u001b[38;5;124m'\u001b[39m\u001b[38;5;124mred\u001b[39m\u001b[38;5;124m'\u001b[39m, \u001b[38;5;124m'\u001b[39m\u001b[38;5;124mindigo\u001b[39m\u001b[38;5;124m'\u001b[39m, \u001b[38;5;124m'\u001b[39m\u001b[38;5;124mgreen\u001b[39m\u001b[38;5;124m'\u001b[39m])\n\u001b[1;32m----> 3\u001b[0m plt\u001b[38;5;241m.\u001b[39mxlabel(\u001b[38;5;124m\"\u001b[39m\u001b[38;5;124m\"\u001b[39m)\n\u001b[0;32m      4\u001b[0m plt\u001b[38;5;241m.\u001b[39mylabel(\u001b[38;5;124m\"\u001b[39m\u001b[38;5;124m Frequency \u001b[39m\u001b[38;5;124m\"\u001b[39m)\n\u001b[0;32m      5\u001b[0m plt\u001b[38;5;241m.\u001b[39mtitle(\u001b[38;5;124m\"\u001b[39m\u001b[38;5;124mDistribution of Family Status by Age Group\u001b[39m\u001b[38;5;124m\"\u001b[39m)\n",
      "\u001b[1;31mAttributeError\u001b[0m: 'Axes' object has no attribute 'xlabel'"
     ]
    },
    {
     "data": {
      "image/png": "[encoded data removed]",
      "text/plain": [
       "<Figure size 640x480 with 1 Axes>"
      ]
     },
     "metadata": {},
     "output_type": "display_data"
    }
   ],
   "source": [
    "# Create a bar chart of the above crosstab_busy_day\n",
    "bar_crosstab_fam_status_age = crosstab_fam_status_age.plot.bar(color=['blue', 'red', 'indigo', 'green'])\n",
    "plt.xlabel('')\n",
    "plt.ylabel('')\n",
    "plt.title('Distribution of Family Status by Age Group')\n",
    "plt.tight_layout() "
   ]
  },
  {
   "cell_type": "markdown",
   "id": "69a52e70-5e30-4e41-a47f-6fc273ddf48f",
   "metadata": {},
   "source": [
    "### From this graph we see that there are significant differences between the age groups with regards to their family statuses. Young adults are the only group living with parents and siblings. Seniors are the only group that are not single, though they have the largest group of divorced or widowed."
   ]
  },
  {
   "cell_type": "code",
   "execution_count": 117,
   "id": "2a217f13-587f-4610-86c9-ae79105de37e",
   "metadata": {},
   "outputs": [],
   "source": [
    "bar_crosstab_fam_status_age.figure.savefig(os.path.join(path, '04_analysis', 'visualisations', 'bar_crosstab_fam_status_age.png'))"
   ]
  },
  {
   "cell_type": "markdown",
   "id": "da1d09ce-2a2f-409b-b784-1574a219e1e4",
   "metadata": {},
   "source": [
    "## 8.Aggregating the max, mean, and min on a customer-profile level for usage frequency and expenditure\n",
    "\n",
    "### The frequency of usage frequency will be evaluated by examining the number of days since the previous order, while spending patterns will be assessed using price data. "
   ]
  },
  {
   "cell_type": "code",
   "execution_count": 118,
   "id": "f40e5e8a-fd06-4793-89ff-cb2080e5ba18",
   "metadata": {},
   "outputs": [],
   "source": [
    "# max, min, mean by age column\n",
    "aggregating_by_age = instacart_low_acti_cust_excluded.groupby('age_group').agg({'days_since_prior_order' : ['min', 'mean', 'max'], 'prices' : ['min', 'mean', 'max']})"
   ]
  },
  {
   "cell_type": "code",
   "execution_count": 119,
   "id": "369f4128-e7c9-485a-b958-847566bf0030",
   "metadata": {},
   "outputs": [
    {
     "data": {
      "text/html": [
       "<div>\n",
       "<style scoped>\n",
       "    .dataframe tbody tr th:only-of-type {\n",
       "        vertical-align: middle;\n",
       "    }\n",
       "\n",
       "    .dataframe tbody tr th {\n",
       "        vertical-align: top;\n",
       "    }\n",
       "\n",
       "    .dataframe thead tr th {\n",
       "        text-align: left;\n",
       "    }\n",
       "\n",
       "    .dataframe thead tr:last-of-type th {\n",
       "        text-align: right;\n",
       "    }\n",
       "</style>\n",
       "<table border=\"1\" class=\"dataframe\">\n",
       "  <thead>\n",
       "    <tr>\n",
       "      <th></th>\n",
       "      <th colspan=\"3\" halign=\"left\">days_since_prior_order</th>\n",
       "      <th colspan=\"3\" halign=\"left\">prices</th>\n",
       "    </tr>\n",
       "    <tr>\n",
       "      <th></th>\n",
       "      <th>min</th>\n",
       "      <th>mean</th>\n",
       "      <th>max</th>\n",
       "      <th>min</th>\n",
       "      <th>mean</th>\n",
       "      <th>max</th>\n",
       "    </tr>\n",
       "    <tr>\n",
       "      <th>age_group</th>\n",
       "      <th></th>\n",
       "      <th></th>\n",
       "      <th></th>\n",
       "      <th></th>\n",
       "      <th></th>\n",
       "      <th></th>\n",
       "    </tr>\n",
       "  </thead>\n",
       "  <tbody>\n",
       "    <tr>\n",
       "      <th>Adult</th>\n",
       "      <td>0.0</td>\n",
       "      <td>11.113359</td>\n",
       "      <td>30.0</td>\n",
       "      <td>1.0</td>\n",
       "      <td>11.849466</td>\n",
       "      <td>99999.0</td>\n",
       "    </tr>\n",
       "    <tr>\n",
       "      <th>Middle-Aged</th>\n",
       "      <td>0.0</td>\n",
       "      <td>11.121171</td>\n",
       "      <td>30.0</td>\n",
       "      <td>1.0</td>\n",
       "      <td>12.205612</td>\n",
       "      <td>99999.0</td>\n",
       "    </tr>\n",
       "    <tr>\n",
       "      <th>Senior</th>\n",
       "      <td>0.0</td>\n",
       "      <td>11.078641</td>\n",
       "      <td>30.0</td>\n",
       "      <td>1.0</td>\n",
       "      <td>11.768850</td>\n",
       "      <td>99999.0</td>\n",
       "    </tr>\n",
       "    <tr>\n",
       "      <th>Young Adult</th>\n",
       "      <td>0.0</td>\n",
       "      <td>11.093030</td>\n",
       "      <td>30.0</td>\n",
       "      <td>1.0</td>\n",
       "      <td>12.175118</td>\n",
       "      <td>99999.0</td>\n",
       "    </tr>\n",
       "  </tbody>\n",
       "</table>\n",
       "</div>"
      ],
      "text/plain": [
       "            days_since_prior_order                  prices                    \n",
       "                               min       mean   max    min       mean      max\n",
       "age_group                                                                     \n",
       "Adult                          0.0  11.113359  30.0    1.0  11.849466  99999.0\n",
       "Middle-Aged                    0.0  11.121171  30.0    1.0  12.205612  99999.0\n",
       "Senior                         0.0  11.078641  30.0    1.0  11.768850  99999.0\n",
       "Young Adult                    0.0  11.093030  30.0    1.0  12.175118  99999.0"
      ]
     },
     "execution_count": 119,
     "metadata": {},
     "output_type": "execute_result"
    }
   ],
   "source": [
    "aggregating_by_age"
   ]
  },
  {
   "cell_type": "code",
   "execution_count": 121,
   "id": "d84d4ecd-a4f2-4a1b-8a8d-7b3a6780020b",
   "metadata": {},
   "outputs": [],
   "source": [
    "# max, min, mean by fam status column\n",
    "aggregating_by_fam_status = instacart_low_acti_cust_excluded.groupby('fam_status').agg({'days_since_prior_order' : ['min', 'mean', 'max'], 'prices' : ['min', 'mean', 'max']})"
   ]
  },
  {
   "cell_type": "code",
   "execution_count": 122,
   "id": "21a35f51-feff-4a2b-a84a-12fa69745c8f",
   "metadata": {},
   "outputs": [
    {
     "data": {
      "text/html": [
       "<div>\n",
       "<style scoped>\n",
       "    .dataframe tbody tr th:only-of-type {\n",
       "        vertical-align: middle;\n",
       "    }\n",
       "\n",
       "    .dataframe tbody tr th {\n",
       "        vertical-align: top;\n",
       "    }\n",
       "\n",
       "    .dataframe thead tr th {\n",
       "        text-align: left;\n",
       "    }\n",
       "\n",
       "    .dataframe thead tr:last-of-type th {\n",
       "        text-align: right;\n",
       "    }\n",
       "</style>\n",
       "<table border=\"1\" class=\"dataframe\">\n",
       "  <thead>\n",
       "    <tr>\n",
       "      <th></th>\n",
       "      <th colspan=\"3\" halign=\"left\">days_since_prior_order</th>\n",
       "      <th colspan=\"3\" halign=\"left\">prices</th>\n",
       "    </tr>\n",
       "    <tr>\n",
       "      <th></th>\n",
       "      <th>min</th>\n",
       "      <th>mean</th>\n",
       "      <th>max</th>\n",
       "      <th>min</th>\n",
       "      <th>mean</th>\n",
       "      <th>max</th>\n",
       "    </tr>\n",
       "    <tr>\n",
       "      <th>fam_status</th>\n",
       "      <th></th>\n",
       "      <th></th>\n",
       "      <th></th>\n",
       "      <th></th>\n",
       "      <th></th>\n",
       "      <th></th>\n",
       "    </tr>\n",
       "  </thead>\n",
       "  <tbody>\n",
       "    <tr>\n",
       "      <th>divorced/widowed</th>\n",
       "      <td>0.0</td>\n",
       "      <td>11.047780</td>\n",
       "      <td>30.0</td>\n",
       "      <td>1.0</td>\n",
       "      <td>11.453674</td>\n",
       "      <td>99999.0</td>\n",
       "    </tr>\n",
       "    <tr>\n",
       "      <th>living with parents and siblings</th>\n",
       "      <td>0.0</td>\n",
       "      <td>11.048170</td>\n",
       "      <td>30.0</td>\n",
       "      <td>1.0</td>\n",
       "      <td>10.828768</td>\n",
       "      <td>99999.0</td>\n",
       "    </tr>\n",
       "    <tr>\n",
       "      <th>married</th>\n",
       "      <td>0.0</td>\n",
       "      <td>11.116175</td>\n",
       "      <td>30.0</td>\n",
       "      <td>1.0</td>\n",
       "      <td>12.005659</td>\n",
       "      <td>99999.0</td>\n",
       "    </tr>\n",
       "    <tr>\n",
       "      <th>single</th>\n",
       "      <td>0.0</td>\n",
       "      <td>11.097992</td>\n",
       "      <td>30.0</td>\n",
       "      <td>1.0</td>\n",
       "      <td>12.480849</td>\n",
       "      <td>99999.0</td>\n",
       "    </tr>\n",
       "  </tbody>\n",
       "</table>\n",
       "</div>"
      ],
      "text/plain": [
       "                                 days_since_prior_order                   \\\n",
       "                                                    min       mean   max   \n",
       "fam_status                                                                 \n",
       "divorced/widowed                                    0.0  11.047780  30.0   \n",
       "living with parents and siblings                    0.0  11.048170  30.0   \n",
       "married                                             0.0  11.116175  30.0   \n",
       "single                                              0.0  11.097992  30.0   \n",
       "\n",
       "                                 prices                      \n",
       "                                    min       mean      max  \n",
       "fam_status                                                   \n",
       "divorced/widowed                    1.0  11.453674  99999.0  \n",
       "living with parents and siblings    1.0  10.828768  99999.0  \n",
       "married                             1.0  12.005659  99999.0  \n",
       "single                              1.0  12.480849  99999.0  "
      ]
     },
     "execution_count": 122,
     "metadata": {},
     "output_type": "execute_result"
    }
   ],
   "source": [
    "aggregating_by_fam_status"
   ]
  },
  {
   "cell_type": "code",
   "execution_count": 124,
   "id": "74041379-6521-42fb-b6f8-0c580d706c89",
   "metadata": {},
   "outputs": [],
   "source": [
    "# max, min, mean by dependants column\n",
    "aggregating_by_dependants = instacart_low_acti_cust_excluded.groupby('n_dependants').agg({'days_since_prior_order' : ['min', 'mean', 'max'], 'prices' : ['min', 'mean', 'max']})"
   ]
  },
  {
   "cell_type": "code",
   "execution_count": 125,
   "id": "8f0354b7-54b9-4e37-be75-25598a7f43a8",
   "metadata": {},
   "outputs": [
    {
     "data": {
      "text/html": [
       "<div>\n",
       "<style scoped>\n",
       "    .dataframe tbody tr th:only-of-type {\n",
       "        vertical-align: middle;\n",
       "    }\n",
       "\n",
       "    .dataframe tbody tr th {\n",
       "        vertical-align: top;\n",
       "    }\n",
       "\n",
       "    .dataframe thead tr th {\n",
       "        text-align: left;\n",
       "    }\n",
       "\n",
       "    .dataframe thead tr:last-of-type th {\n",
       "        text-align: right;\n",
       "    }\n",
       "</style>\n",
       "<table border=\"1\" class=\"dataframe\">\n",
       "  <thead>\n",
       "    <tr>\n",
       "      <th></th>\n",
       "      <th colspan=\"3\" halign=\"left\">days_since_prior_order</th>\n",
       "      <th colspan=\"3\" halign=\"left\">prices</th>\n",
       "    </tr>\n",
       "    <tr>\n",
       "      <th></th>\n",
       "      <th>min</th>\n",
       "      <th>mean</th>\n",
       "      <th>max</th>\n",
       "      <th>min</th>\n",
       "      <th>mean</th>\n",
       "      <th>max</th>\n",
       "    </tr>\n",
       "    <tr>\n",
       "      <th>n_dependants</th>\n",
       "      <th></th>\n",
       "      <th></th>\n",
       "      <th></th>\n",
       "      <th></th>\n",
       "      <th></th>\n",
       "      <th></th>\n",
       "    </tr>\n",
       "  </thead>\n",
       "  <tbody>\n",
       "    <tr>\n",
       "      <th>0</th>\n",
       "      <td>0.0</td>\n",
       "      <td>11.080805</td>\n",
       "      <td>30.0</td>\n",
       "      <td>1.0</td>\n",
       "      <td>12.129243</td>\n",
       "      <td>99999.0</td>\n",
       "    </tr>\n",
       "    <tr>\n",
       "      <th>1</th>\n",
       "      <td>0.0</td>\n",
       "      <td>11.100028</td>\n",
       "      <td>30.0</td>\n",
       "      <td>1.0</td>\n",
       "      <td>11.629316</td>\n",
       "      <td>99999.0</td>\n",
       "    </tr>\n",
       "    <tr>\n",
       "      <th>2</th>\n",
       "      <td>0.0</td>\n",
       "      <td>11.125757</td>\n",
       "      <td>30.0</td>\n",
       "      <td>1.0</td>\n",
       "      <td>12.369543</td>\n",
       "      <td>99999.0</td>\n",
       "    </tr>\n",
       "    <tr>\n",
       "      <th>3</th>\n",
       "      <td>0.0</td>\n",
       "      <td>11.109714</td>\n",
       "      <td>30.0</td>\n",
       "      <td>1.0</td>\n",
       "      <td>11.793264</td>\n",
       "      <td>99999.0</td>\n",
       "    </tr>\n",
       "  </tbody>\n",
       "</table>\n",
       "</div>"
      ],
      "text/plain": [
       "             days_since_prior_order                  prices             \\\n",
       "                                min       mean   max    min       mean   \n",
       "n_dependants                                                             \n",
       "0                               0.0  11.080805  30.0    1.0  12.129243   \n",
       "1                               0.0  11.100028  30.0    1.0  11.629316   \n",
       "2                               0.0  11.125757  30.0    1.0  12.369543   \n",
       "3                               0.0  11.109714  30.0    1.0  11.793264   \n",
       "\n",
       "                       \n",
       "                  max  \n",
       "n_dependants           \n",
       "0             99999.0  \n",
       "1             99999.0  \n",
       "2             99999.0  \n",
       "3             99999.0  "
      ]
     },
     "execution_count": 125,
     "metadata": {},
     "output_type": "execute_result"
    }
   ],
   "source": [
    "aggregating_by_dependants"
   ]
  },
  {
   "cell_type": "code",
   "execution_count": null,
   "id": "9400e99a-46e0-4eae-823e-2fb672716149",
   "metadata": {},
   "outputs": [],
   "source": []
  }
 ],
 "metadata": {
  "kernelspec": {
   "display_name": "Python 3 (ipykernel)",
   "language": "python",
   "name": "python3"
  },
  "language_info": {
   "codemirror_mode": {
    "name": "ipython",
    "version": 3
   },
   "file_extension": ".py",
   "mimetype": "text/x-python",
   "name": "python",
   "nbconvert_exporter": "python",
   "pygments_lexer": "ipython3",
   "version": "3.12.4"
  }
 },
 "nbformat": 4,
 "nbformat_minor": 5
}
